{
 "cells": [
  {
   "cell_type": "code",
   "execution_count": 1,
   "metadata": {},
   "outputs": [
    {
     "name": "stdout",
     "output_type": "stream",
     "text": [
      "INFO 03-30 03:28:11 [__init__.py:239] Automatically detected platform cuda.\n",
      "INFO 03-30 03:29:01 [config.py:585] This model supports multiple tasks: {'generate', 'score', 'classify', 'embed', 'reward'}. Defaulting to 'generate'.\n",
      "INFO 03-30 03:29:01 [config.py:1697] Chunked prefill is enabled with max_num_batched_tokens=8192.\n",
      "INFO 03-30 03:29:06 [core.py:54] Initializing a V1 LLM engine (v0.8.2) with config: model='Qwen/Qwen2.5-0.5B-Instruct', speculative_config=None, tokenizer='Qwen/Qwen2.5-0.5B-Instruct', skip_tokenizer_init=False, tokenizer_mode=auto, revision=None, override_neuron_config=None, tokenizer_revision=None, trust_remote_code=False, dtype=torch.bfloat16, max_seq_len=32768, download_dir=None, load_format=auto, tensor_parallel_size=1, pipeline_parallel_size=1, disable_custom_all_reduce=False, quantization=None, enforce_eager=False, kv_cache_dtype=auto,  device_config=cuda, decoding_config=DecodingConfig(guided_decoding_backend='xgrammar', reasoning_backend=None), observability_config=ObservabilityConfig(show_hidden_metrics=False, otlp_traces_endpoint=None, collect_model_forward_time=False, collect_model_execute_time=False), seed=None, served_model_name=Qwen/Qwen2.5-0.5B-Instruct, num_scheduler_steps=1, multi_step_stream_outputs=True, enable_prefix_caching=True, chunked_prefill_enabled=True, use_async_output_proc=True, disable_mm_preprocessor_cache=False, mm_processor_kwargs=None, pooler_config=None, compilation_config={\"level\":3,\"custom_ops\":[\"none\"],\"splitting_ops\":[\"vllm.unified_attention\",\"vllm.unified_attention_with_output\"],\"use_inductor\":true,\"compile_sizes\":[],\"use_cudagraph\":true,\"cudagraph_num_of_warmups\":1,\"cudagraph_capture_sizes\":[512,504,496,488,480,472,464,456,448,440,432,424,416,408,400,392,384,376,368,360,352,344,336,328,320,312,304,296,288,280,272,264,256,248,240,232,224,216,208,200,192,184,176,168,160,152,144,136,128,120,112,104,96,88,80,72,64,56,48,40,32,24,16,8,4,2,1],\"max_capture_size\":512}\n",
      "WARNING 03-30 03:29:34 [utils.py:2321] Methods determine_num_available_blocks,device_config,get_cache_block_size_bytes,initialize_cache not implemented in <vllm.v1.worker.gpu_worker.Worker object at 0x7f7e2b749690>\n",
      "INFO 03-30 03:29:35 [parallel_state.py:954] rank 0 in world size 1 is assigned as DP rank 0, PP rank 0, TP rank 0\n",
      "INFO 03-30 03:29:35 [cuda.py:220] Using Flash Attention backend on V1 engine.\n",
      "INFO 03-30 03:29:35 [gpu_model_runner.py:1174] Starting to load model Qwen/Qwen2.5-0.5B-Instruct...\n",
      "WARNING 03-30 03:29:39 [topk_topp_sampler.py:63] FlashInfer is not available. Falling back to the PyTorch-native implementation of top-p & top-k sampling. For the best performance, please install FlashInfer.\n",
      "INFO 03-30 03:29:46 [weight_utils.py:265] Using model weights format ['*.safetensors']\n",
      "INFO 03-30 03:29:47 [weight_utils.py:315] No model.safetensors.index.json found in remote.\n"
     ]
    },
    {
     "data": {
      "application/vnd.jupyter.widget-view+json": {
       "model_id": "96942c9fe38b4a619fe945ce6eda1d4b",
       "version_major": 2,
       "version_minor": 0
      },
      "text/plain": [
       "Loading safetensors checkpoint shards:   0% Completed | 0/1 [00:00<?, ?it/s]\n"
      ]
     },
     "metadata": {},
     "output_type": "display_data"
    },
    {
     "name": "stdout",
     "output_type": "stream",
     "text": [
      "INFO 03-30 03:30:49 [loader.py:447] Loading weights took 61.96 seconds\n",
      "INFO 03-30 03:30:49 [gpu_model_runner.py:1186] Model loading took 0.9266 GB and 73.656066 seconds\n",
      "INFO 03-30 03:32:33 [backends.py:415] Using cache directory: /cs/student/msc/ml/2024/ycheah/.cache/vllm/torch_compile_cache/11482c9298/rank_0_0 for vLLM's torch.compile\n",
      "INFO 03-30 03:32:33 [backends.py:425] Dynamo bytecode transform time: 103.87 s\n",
      "INFO 03-30 03:32:53 [backends.py:132] Cache the graph of shape None for later use\n"
     ]
    },
    {
     "name": "stderr",
     "output_type": "stream",
     "text": [
      "[rank0]:W0330 03:32:53.980000 153496 /cs/student/projects1/ml/2024/ycheah/disk/miniconda3/envs/sos1/lib/python3.10/site-packages/torch/_inductor/utils.py:1137] [0/0] Not enough SMs to use max_autotune_gemm mode\n"
     ]
    },
    {
     "name": "stdout",
     "output_type": "stream",
     "text": [
      "INFO 03-30 03:33:13 [backends.py:144] Compiling a graph for general shape takes 39.73 s\n",
      "INFO 03-30 03:33:25 [monitor.py:33] torch.compile takes 143.60 s in total\n",
      "ERROR 03-30 03:33:26 [core.py:343] EngineCore hit an exception: Traceback (most recent call last):\n",
      "ERROR 03-30 03:33:26 [core.py:343]   File \"/cs/student/msc/ml/2024/ycheah/disk/miniconda3/envs/sos1/lib/python3.10/site-packages/vllm/v1/engine/core.py\", line 335, in run_engine_core\n",
      "ERROR 03-30 03:33:26 [core.py:343]     engine_core = EngineCoreProc(*args, **kwargs)\n",
      "ERROR 03-30 03:33:26 [core.py:343]   File \"/cs/student/msc/ml/2024/ycheah/disk/miniconda3/envs/sos1/lib/python3.10/site-packages/vllm/v1/engine/core.py\", line 290, in __init__\n",
      "ERROR 03-30 03:33:26 [core.py:343]     super().__init__(vllm_config, executor_class, log_stats)\n",
      "ERROR 03-30 03:33:26 [core.py:343]   File \"/cs/student/msc/ml/2024/ycheah/disk/miniconda3/envs/sos1/lib/python3.10/site-packages/vllm/v1/engine/core.py\", line 63, in __init__\n",
      "ERROR 03-30 03:33:26 [core.py:343]     num_gpu_blocks, num_cpu_blocks = self._initialize_kv_caches(\n",
      "ERROR 03-30 03:33:26 [core.py:343]   File \"/cs/student/msc/ml/2024/ycheah/disk/miniconda3/envs/sos1/lib/python3.10/site-packages/vllm/v1/engine/core.py\", line 126, in _initialize_kv_caches\n",
      "ERROR 03-30 03:33:26 [core.py:343]     kv_cache_configs = [\n",
      "ERROR 03-30 03:33:26 [core.py:343]   File \"/cs/student/msc/ml/2024/ycheah/disk/miniconda3/envs/sos1/lib/python3.10/site-packages/vllm/v1/engine/core.py\", line 127, in <listcomp>\n",
      "ERROR 03-30 03:33:26 [core.py:343]     get_kv_cache_config(vllm_config, kv_cache_spec_one_worker,\n",
      "ERROR 03-30 03:33:26 [core.py:343]   File \"/cs/student/msc/ml/2024/ycheah/disk/miniconda3/envs/sos1/lib/python3.10/site-packages/vllm/v1/core/kv_cache_utils.py\", line 604, in get_kv_cache_config\n",
      "ERROR 03-30 03:33:26 [core.py:343]     check_enough_kv_cache_memory(vllm_config, kv_cache_spec, available_memory)\n",
      "ERROR 03-30 03:33:26 [core.py:343]   File \"/cs/student/msc/ml/2024/ycheah/disk/miniconda3/envs/sos1/lib/python3.10/site-packages/vllm/v1/core/kv_cache_utils.py\", line 468, in check_enough_kv_cache_memory\n",
      "ERROR 03-30 03:33:26 [core.py:343]     raise ValueError(\"No available memory for the cache blocks. \"\n",
      "ERROR 03-30 03:33:26 [core.py:343] ValueError: No available memory for the cache blocks. Try increasing `gpu_memory_utilization` when initializing the engine.\n",
      "ERROR 03-30 03:33:26 [core.py:343] \n",
      "CRITICAL 03-30 03:33:26 [core_client.py:269] Got fatal signal from worker processes, shutting down. See stack trace above for root cause issue.\n"
     ]
    },
    {
     "ename": "",
     "evalue": "",
     "output_type": "error",
     "traceback": [
      "\u001b[1;31mThe Kernel crashed while executing code in the current cell or a previous cell. \n",
      "\u001b[1;31mPlease review the code in the cell(s) to identify a possible cause of the failure. \n",
      "\u001b[1;31mClick <a href='https://aka.ms/vscodeJupyterKernelCrash'>here</a> for more info. \n",
      "\u001b[1;31mView Jupyter <a href='command:jupyter.viewOutput'>log</a> for further details."
     ]
    }
   ],
   "source": [
    "from vllm import LLM, SamplingParams\n",
    "from datasets import load_dataset\n",
    "\n",
    "# model = OnlineLM(\"deepseek-ai/DeepSeek-R1\")\n",
    "data_all = load_dataset(\"MelinaLaimon/stream-of-search\")\n",
    "data = data_all[\"test\"].select(range(2))\n",
    "\n",
    "data = data.map(lambda x: { # type: ignore\n",
    "    'test_prompt': [\n",
    "        # {'role': 'system', 'content': SYSTEM_PROMPT},\n",
    "        x[\"messages_sos\"][\"role\"==\"user\"]\n",
    "    ],\n",
    "    # 'answer': extract_hash_answer(x['answer'])\n",
    "})\n",
    "\n",
    "sampling_params = SamplingParams(\n",
    "    temperature=0.1,\n",
    "    top_k=40,\n",
    "    top_p=0.95,\n",
    "    max_tokens=4096,\n",
    ")\n",
    "\n",
    "llm = LLM(\n",
    "    model=\"Qwen/Qwen2.5-0.5B-Instruct\"\n",
    "    )\n",
    "\n"
   ]
  },
  {
   "cell_type": "code",
   "execution_count": null,
   "metadata": {},
   "outputs": [],
   "source": [
    "for output in outputs:\n",
    "    prompt = output.prompt\n",
    "    generated_text = output.outputs[0].text\n",
    "    print(f\"Prompt: {prompt!r}, Generated text: {generated_text!r}\")\n",
    "    "
   ]
  },
  {
   "cell_type": "code",
   "execution_count": null,
   "metadata": {},
   "outputs": [],
   "source": [
    "outputs = llm.generate(data['test_prompt'], sampling_params)"
   ]
  }
 ],
 "metadata": {
  "kernelspec": {
   "display_name": "sos1",
   "language": "python",
   "name": "python3"
  },
  "language_info": {
   "codemirror_mode": {
    "name": "ipython",
    "version": 3
   },
   "file_extension": ".py",
   "mimetype": "text/x-python",
   "name": "python",
   "nbconvert_exporter": "python",
   "pygments_lexer": "ipython3",
   "version": "3.10.16"
  }
 },
 "nbformat": 4,
 "nbformat_minor": 2
}
