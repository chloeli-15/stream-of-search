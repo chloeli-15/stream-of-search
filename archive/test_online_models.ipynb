{
 "cells": [
  {
   "cell_type": "code",
   "execution_count": 2,
   "metadata": {},
   "outputs": [],
   "source": [
    "from tqdm import tqdm\n",
    "# from datasets import load_dataset\n",
    "import re\n",
    "import json, sys, os, glob\n",
    "import numpy as np\n",
    "from typing import List, Tuple\n",
    "import math\n",
    "import matplotlib.pyplot as plt\n",
    "import re\n",
    "import re\n",
    "import ast\n",
    "import tiktoken\n",
    "\n",
    "def validate_operations(initial_numbers, operations, target):\n",
    "    \"\"\"\n",
    "    Validates if the operations use all initial numbers exactly once and reach the target.\n",
    "    \"\"\"\n",
    "    # Make a copy of initial numbers to track usage\n",
    "    available_numbers = initial_numbers.copy()\n",
    "    # Dictionary to store intermediate results\n",
    "    intermediate_results = {}\n",
    "    \n",
    "    for i, operation in enumerate(operations):\n",
    "        # Parse the operation (format like '9-5=4')\n",
    "        parts = operation.split('=')\n",
    "        if len(parts) != 2:\n",
    "            return False\n",
    "        \n",
    "        result_str = parts[1].strip()\n",
    "        expression = parts[0].strip()\n",
    "        \n",
    "        # Find operator (+, -, *, /)\n",
    "        op_match = re.search(r'[+\\-*/]', expression)\n",
    "        if not op_match:\n",
    "            return False\n",
    "        \n",
    "        operator = op_match.group(0)\n",
    "        operands = expression.split(operator)\n",
    "        if len(operands) != 2:\n",
    "            return False\n",
    "        \n",
    "        left_operand = operands[0].strip()\n",
    "        right_operand = operands[1].strip()\n",
    "        \n",
    "        # Try to get values for operands\n",
    "        left_val = None\n",
    "        if left_operand.isdigit() or (left_operand.startswith('-') and left_operand[1:].isdigit()):\n",
    "            left_val = int(left_operand)\n",
    "            if left_val in available_numbers:\n",
    "                available_numbers.remove(left_val)\n",
    "            elif left_val not in intermediate_results.values():\n",
    "                return False  # Not an available number or intermediate result\n",
    "        else:\n",
    "            return False  # Non-numeric operand\n",
    "        \n",
    "        right_val = None\n",
    "        if right_operand.isdigit() or (right_operand.startswith('-') and right_operand[1:].isdigit()):\n",
    "            right_val = int(right_operand)\n",
    "            if right_val in available_numbers:\n",
    "                available_numbers.remove(right_val)\n",
    "            elif right_val not in intermediate_results.values():\n",
    "                return False  # Not an available number or intermediate result\n",
    "        else:\n",
    "            return False  # Non-numeric operand\n",
    "        \n",
    "        # Calculate the result\n",
    "        calculated_result = None\n",
    "        if operator == '+':\n",
    "            calculated_result = left_val + right_val\n",
    "        elif operator == '-':\n",
    "            calculated_result = left_val - right_val\n",
    "        elif operator == '*':\n",
    "            calculated_result = left_val * right_val\n",
    "        elif operator == '/':\n",
    "            if right_val == 0:\n",
    "                return False  # Division by zero\n",
    "            calculated_result = left_val / right_val\n",
    "        \n",
    "        # Verify the result matches what's stated\n",
    "        result_val = int(result_str) if result_str.isdigit() else None\n",
    "        if result_val is None or abs(calculated_result - result_val) > 1e-10:\n",
    "            return False\n",
    "        \n",
    "        # Store intermediate result for future operations\n",
    "        intermediate_results[f\"step{i}\"] = result_val\n",
    "    \n",
    "    # Check if all initial numbers were used and final result matches target\n",
    "    return len(available_numbers) == 0 and result_val == target\n",
    "\n",
    "\n",
    "def evaluate_countdown_trajectory_claude(ds_entry) -> Tuple[bool, str]:\n",
    "    \"\"\"\n",
    "    Given:\n",
    "      - target: the desired final result.\n",
    "      - nums: list of initial numbers.\n",
    "      - trajectory: a string that should include lines of the form:\n",
    "            SOLUTION: YES/NO\n",
    "            OPERATIONS: [list of strings like 'A+B=C', ...]\n",
    "            RESULT: final_value\n",
    "    This function uses regex to extract the parts and then simulates the operations\n",
    "    by “consuming” initial numbers (and intermediate results) from a pool, verifying:\n",
    "      • each operation string has one binary operator\n",
    "      • each operation is valid (left op right equals given result)\n",
    "      • the operations use all initial numbers exactly once (by simulating removal from pool).\n",
    "    Returns a tuple (is_valid, message) where is_valid is True only if the trajectory is correct.\n",
    "    \"\"\"\n",
    "    # target: int, nums: List[int], trajectory: str\n",
    "    trajectory = ds_entry['completion']\n",
    "    target = ds_entry['target']\n",
    "    nums = ds_entry['nums']\n",
    "    # Extract SOLUTION (YES or NO)\n",
    "    sol_match = re.search(r\"SOLUTION:\\s*(YES|NO)\", trajectory, re.IGNORECASE)\n",
    "    if not sol_match:\n",
    "        return False, \"Could not find SOLUTION declaration.\"\n",
    "    sol_decl = sol_match.group(1).upper()\n",
    "    if sol_decl != \"YES\":\n",
    "        return False, \"The trajectory indicates no valid solution.\"\n",
    "\n",
    "    # Extract OPERATIONS list\n",
    "    ops_match = re.search(r\"OPERATIONS:\\s*(\\[[^\\]]*\\])\", trajectory, re.DOTALL)\n",
    "    if not ops_match:\n",
    "        return False, \"Could not find OPERATIONS list.\"\n",
    "    try:\n",
    "        operations = ast.literal_eval(ops_match.group(1))\n",
    "        if not isinstance(operations, list):\n",
    "            return False, \"OPERATIONS is not a list.\"\n",
    "    except Exception as e:\n",
    "        return False, f\"Failed to parse OPERATIONS list: {e}\"\n",
    "        \n",
    "    # Extract final RESULT\n",
    "    res_match = re.search(r\"RESULT:\\s*([-+.\\d]+)\", trajectory)\n",
    "    if not res_match:\n",
    "        return False, \"Could not find RESULT.\"\n",
    "    try:\n",
    "        expected_final = float(res_match.group(1))\n",
    "    except Exception as e:\n",
    "        return False, f\"Failed to parse RESULT: {e}\"\n",
    "    \n",
    "    # Simulation: available numbers (as floats).\n",
    "    available = [float(n) for n in nums]\n",
    "    # We simulate the sequence of operations.\n",
    "    # Each operation must be of the form \"operand1 operator operand2 = result\"\n",
    "    op_pattern = re.compile(r\"^\\s*([\\d.]+)\\s*([\\+\\-\\*/])\\s*([\\d.]+)\\s*=\\s*([\\d.]+)\\s*$\")\n",
    "    \n",
    "    for idx, op_str in enumerate(operations):\n",
    "        m = op_pattern.match(op_str)\n",
    "        if not m:\n",
    "            return False, f\"Operation '{op_str}' does not match required pattern.\"\n",
    "        op1_str, operator, op2_str, given_result_str = m.groups()\n",
    "        try:\n",
    "            op1 = float(op1_str)\n",
    "            op2 = float(op2_str)\n",
    "            op_result = float(given_result_str)\n",
    "        except Exception as e:\n",
    "            return False, f\"Error converting numbers in op '{op_str}': {e}\"\n",
    "            \n",
    "        # Check that the operation is valid:\n",
    "        if operator == '+':\n",
    "            computed = op1 + op2\n",
    "        elif operator == '-':\n",
    "            computed = op1 - op2\n",
    "        elif operator == '*':\n",
    "            computed = op1 * op2\n",
    "        elif operator == '/':\n",
    "            # Avoid division by zero\n",
    "            if math.isclose(op2,0.0):\n",
    "                return False, f\"Division by zero in op '{op_str}'.\"\n",
    "            computed = op1 / op2\n",
    "        else:\n",
    "            return False, f\"Unknown operator '{operator}' in op '{op_str}'.\"\n",
    "            \n",
    "        if not math.isclose(computed, op_result, rel_tol=1e-5):\n",
    "            return False, f\"In op '{op_str}', computed {computed} which does not match given {op_result}.\"\n",
    "            \n",
    "        # Now simulate consumption:\n",
    "        # For each operand, check if it is \"available\". If yes, remove one instance.\n",
    "        # (We assume that if the operand equals a value in available within tolerance,\n",
    "        #  it comes from the pool of that operand.)\n",
    "        def consume(value: float, pool: List[float]) -> bool:\n",
    "            for i, num in enumerate(pool):\n",
    "                if math.isclose(num, value, rel_tol=1e-5):\n",
    "                    del pool[i]\n",
    "                    return True\n",
    "            return False\n",
    "        \n",
    "        # Try to consume op1 and op2\n",
    "        if not consume(op1, available):\n",
    "            return False, f\"Operand {op1} in op '{op_str}' not available from initial/intermediate numbers.\"\n",
    "        if not consume(op2, available):\n",
    "            return False, f\"Operand {op2} in op '{op_str}' not available from initial/intermediate numbers.\"\n",
    "        # Append current operation result to available pool\n",
    "        available.append(op_result)\n",
    "    \n",
    "    # At the end, exactly one number should remain; it should equal the target.\n",
    "    if len(available) != 1:\n",
    "        return False, f\"After all operations, expected one value but got {len(available)} values: {available}\"\n",
    "    if not math.isclose(available[0], float(target), rel_tol=1e-5):\n",
    "        return False, f\"Final value {available[0]} does not equal the target {target}.\"\n",
    "    \n",
    "    return True, f\"Trajectory is valid with operations: {operations}\"\n",
    "    \n",
    "#     return {\n",
    "#         'solved': solved,\n",
    "#         'target': target,\n",
    "#         'initial_numbers': initial_numbers,\n",
    "#         'operations': operations,\n",
    "#         'final_value': final_value\n",
    "#     }\n",
    "\n",
    "def evaluate_countdown_trajectory(ds_entry):\n",
    "    solved, remarks = evaluate_countdown_trajectory_claude(ds_entry)\n",
    "    enc = tiktoken.get_encoding(\"cl100k_base\")\n",
    "    tokens = enc.encode(ds_entry['completion'])\n",
    "\n",
    "    return {\n",
    "        'solved': solved,\n",
    "        'target': ds_entry['target'],\n",
    "        'initial_numbers': ds_entry['nums'],\n",
    "        'remarks': remarks,\n",
    "        'completion_length': len(tokens),\n",
    "    }\n",
    "        \n",
    "def evaluate_countdown_trajectories(results_all_trials):\n",
    "    \"\"\"\n",
    "    Evaluates a dataset of countdown problem solver trajectories and returns a flattened\n",
    "    list of results in the format expected by visualization tools and wandb logging.\n",
    "    \"\"\"\n",
    "    # Create a dict to track which questions were solved in any trial\n",
    "    question_solved = {i: False for i in range(len(results_all_trials[0]))}\n",
    "    trial_success_rates = []\n",
    "    \n",
    "    # Process each trial\n",
    "    for i in range(len(results_all_trials)):\n",
    "        successes_in_trial = 0\n",
    "        for j in range(len(results_all_trials[i])):\n",
    "            # problem_text = results_all_trials[i][j].get(\"prompt\", \"\")\n",
    "            # solution_text = results_all_trials[i][j].get(\"completion\", \"\")\n",
    "            results_all_trials[i][j]['parsed_results'] = evaluate_countdown_trajectory(results_all_trials[i][j])\n",
    "            \n",
    "            # Update success counts\n",
    "            if results_all_trials[i][j]['parsed_results']['solved']:\n",
    "                successes_in_trial += 1\n",
    "                question_solved[j] = True\n",
    "                \n",
    "        # Calculate success rate for this trial\n",
    "        trial_success_rates.append(successes_in_trial / len(results_all_trials[i]))\n",
    "    \n",
    "    # Calculate aggregate statistics\n",
    "    best_of_n_successes = sum(question_solved.values())\n",
    "    best_of_n_rate = best_of_n_successes / len(question_solved)\n",
    "    mean_of_n_trials = sum(trial_success_rates) / len(trial_success_rates)\n",
    "    \n",
    "    # Print summary statistics\n",
    "    print(f\"Success rate for each trial: {trial_success_rates}\")\n",
    "    print(f\"\\nSummary:\")\n",
    "    print(f\"  Best-of-{len(trial_success_rates)} success rate: {best_of_n_rate:.4f} ({best_of_n_successes}/{len(question_solved)})\")\n",
    "    print(f\"  Mean success rate across trials: {mean_of_n_trials:.4f}\\n\")\n",
    "    \n",
    "    # Create the properly formatted results array\n",
    "    # Start with the metrics summary (which will be at index 1 after hyperparams are added)\n",
    "    final_results = [{\n",
    "        'trial_success_rates': trial_success_rates,\n",
    "        'best_of_n': best_of_n_rate,\n",
    "        'mean': mean_of_n_trials\n",
    "    }]\n",
    "    \n",
    "    # Add individual trajectory results (using best results from any trial)\n",
    "    for j in range(len(results_all_trials[0])):\n",
    "        # Find the best result for this problem across all trials\n",
    "        best_result = None\n",
    "        for i in range(len(results_all_trials)):\n",
    "            result = results_all_trials[i][j]\n",
    "            if best_result is None or (result['parsed_results']['solved'] and not best_result['parsed_results']['solved']):\n",
    "                best_result = result\n",
    "        \n",
    "        # Add this result to our final list\n",
    "        if best_result:\n",
    "            final_results.append(best_result)\n",
    "    \n",
    "    return final_results\n"
   ]
  },
  {
   "cell_type": "code",
   "execution_count": 26,
   "metadata": {},
   "outputs": [
    {
     "name": "stdout",
     "output_type": "stream",
     "text": [
      "Loading dataset from Hugging Face...\n"
     ]
    },
    {
     "ename": "NameError",
     "evalue": "name 'evaluate_countdown_trajectory' is not defined",
     "output_type": "error",
     "traceback": [
      "\u001b[0;31m---------------------------------------------------------------------------\u001b[0m",
      "\u001b[0;31mNameError\u001b[0m                                 Traceback (most recent call last)",
      "Cell \u001b[0;32mIn[26], line 45\u001b[0m\n\u001b[1;32m     38\u001b[0m data \u001b[38;5;241m=\u001b[39m data\u001b[38;5;241m.\u001b[39mmap( \u001b[38;5;28;01mlambda\u001b[39;00m x: {\n\u001b[1;32m     39\u001b[0m     \u001b[38;5;124m'\u001b[39m\u001b[38;5;124mmessages_deepseek\u001b[39m\u001b[38;5;124m'\u001b[39m: [\n\u001b[1;32m     40\u001b[0m         {\u001b[38;5;124m'\u001b[39m\u001b[38;5;124mrole\u001b[39m\u001b[38;5;124m'\u001b[39m: \u001b[38;5;124m'\u001b[39m\u001b[38;5;124muser\u001b[39m\u001b[38;5;124m'\u001b[39m, \u001b[38;5;124m'\u001b[39m\u001b[38;5;124mcontent\u001b[39m\u001b[38;5;124m'\u001b[39m: x[\u001b[38;5;124m'\u001b[39m\u001b[38;5;124mmessages_sos\u001b[39m\u001b[38;5;124m'\u001b[39m][\u001b[38;5;241m0\u001b[39m][\u001b[38;5;124m'\u001b[39m\u001b[38;5;124mcontent\u001b[39m\u001b[38;5;124m'\u001b[39m]},\n\u001b[1;32m     41\u001b[0m         {\u001b[38;5;124m'\u001b[39m\u001b[38;5;124mrole\u001b[39m\u001b[38;5;124m'\u001b[39m: \u001b[38;5;124m'\u001b[39m\u001b[38;5;124massistant\u001b[39m\u001b[38;5;124m'\u001b[39m, \u001b[38;5;124m'\u001b[39m\u001b[38;5;124mcontent\u001b[39m\u001b[38;5;124m'\u001b[39m: x[\u001b[38;5;124m'\u001b[39m\u001b[38;5;124mcompletion\u001b[39m\u001b[38;5;124m'\u001b[39m]}\n\u001b[1;32m     42\u001b[0m         ]\n\u001b[1;32m     43\u001b[0m })\n\u001b[1;32m     44\u001b[0m data \u001b[38;5;241m=\u001b[39m data\u001b[38;5;241m.\u001b[39mselect_columns([\u001b[38;5;124m\"\u001b[39m\u001b[38;5;124mmessages_deepseek\u001b[39m\u001b[38;5;124m\"\u001b[39m, \u001b[38;5;124m\"\u001b[39m\u001b[38;5;124mnums\u001b[39m\u001b[38;5;124m\"\u001b[39m, \u001b[38;5;124m\"\u001b[39m\u001b[38;5;124mtarget\u001b[39m\u001b[38;5;124m\"\u001b[39m, \u001b[38;5;124m\"\u001b[39m\u001b[38;5;124msolution\u001b[39m\u001b[38;5;124m\"\u001b[39m, \u001b[38;5;124m\"\u001b[39m\u001b[38;5;124mcompletion\u001b[39m\u001b[38;5;124m\"\u001b[39m])\n\u001b[0;32m---> 45\u001b[0m data \u001b[38;5;241m=\u001b[39m data\u001b[38;5;241m.\u001b[39madd_column(\u001b[38;5;124m\"\u001b[39m\u001b[38;5;124mparsed_results\u001b[39m\u001b[38;5;124m\"\u001b[39m, \u001b[38;5;28mlist\u001b[39m(\u001b[38;5;28mmap\u001b[39m(\u001b[43mevaluate_countdown_trajectory\u001b[49m, data)))\n",
      "\u001b[0;31mNameError\u001b[0m: name 'evaluate_countdown_trajectory' is not defined"
     ]
    }
   ],
   "source": [
    "from datasets import load_dataset\n",
    "import json\n",
    "# Load the dataset\n",
    "print(\"Loading dataset from Hugging Face...\")\n",
    "data = load_dataset(\"MelinaLaimon/stream-of-search\", split=\"train[0%:80%]\")\n",
    "\n",
    "# load res/output.jsonl\n",
    "import sys, os, json\n",
    "\n",
    "os.listdir(\"./\")\n",
    "\n",
    "with open(\"../res/output.jsonl\", \"r\") as f:\n",
    "    lines = f.readlines()\n",
    "    lines = [json.loads(line) for line in lines]\n",
    "    \n",
    "\"\"\"\n",
    "{'id': '74b966fb-9632-472e-8e76-07b5932e7ffd',\n",
    " 'original_idx': 14,\n",
    " 'messages': [{'content': \"Combine these initial numbers [12, 91, 40, 13] using only arithmetic operations (+, -, *, /) to reach the target value 45. All initial numbers must be used exactly once.\\nConclude with the final result in EXACTLY this format:\\n```\\nSOLUTION: YES/NO\\nOPERATIONS: list of string of operations performed, each string involving only 1 operation. For example, ['A+B=C','C+D=E'] is allowed, ['A+B+D=E'] is not allowed\\nRESULT: final_value\\n```\\n\\nNote that the solution does exist. Verify your solutions before your present your final results and backtrack to correct mistakes from before your mistakes if you have to.\",\n",
    "   'role': 'user'},\n",
    "  {'role': 'assistant',\n",
    "   'content': \"```\\nSOLUTION: YES\\nOPERATIONS: ['91/13=7', '40-7=33', '33+12=45']\\nRESULT: 45\\n```\",\n",
    "   'reasoning_content': \"Okay, let's see. I need to combine the numbers 12, 91, 40, and 13 using each exactly once, and reach 45. The allowed operations are addition, subtraction, multiplication, and division. Hmm. Let's start by thinking about possible combinations.\\n\\nFirst, since 45 is a relatively small number, maybe some subtraction or division is needed here. Let's list the numbers again: 12, 91, 40, 13. Let's think about possible pairs.\\n\\nWhat if I try to subtract two larger numbers to get a smaller one. For example, 91 minus 40 is 51. Then maybe combine with 13 and 12. But 51 plus 13 is 64, minus 12 is 52. Not 45. Hmm. Alternatively, 91 minus 13 is 78. Then 40 minus 12 is 28. 78 minus 28 is 50. Still not there.\\n\\nWait, maybe division is necessary. Let's think. For example, 40 divided by something. 40 / 10 is 4, but we don't have 10. Alternatively, 91 divided by something. Let's see. 91 divided by 13 is 7. Oh, that's interesting. Because 13 is one of the numbers. So 91 /13 =7. Then we have 12, 40, and 7 left. How can we combine those to get 45?\\n\\nSo 40 + 7 =47, then 47 - 12=35. No. Not 45. Alternatively, 40 -7=33. 33 +12=45. Oh! Wait, that would work. Let's check:\\n\\nStep 1: 91 /13 =7. Then we have 12,40,7 left. Then 40 -7=33. Then 33 +12=45. So all numbers are used exactly once: 91,13,40,12. Let's verify:\\n\\nFirst operation: 91 /13 =7.\\n\\nSecond operation: 40 -7=33. But wait, 7 is a result from the first operation, not the original numbers. So that uses 40 and 7 (which is the result of 91/13). Then third operation is 33 +12=45. So yes, all original numbers are used: 12,91,40,13. Each used exactly once. Let me check each step:\\n\\nOriginal numbers: 12,91,40,13.\\n\\nFirst step: 91 /13=7. So 91 and 13 are used. Remaining numbers:12,40, and the result 7.\\n\\nSecond step: 40 -7=33. Now, 40 is used. Remaining numbers:12 and 33 (from previous step).\\n\\nThird step: 33 +12=45. So 12 is used. All original numbers are accounted for: 91,13,40,12. Yes.\\n\\nSo the operations would be:\\n\\n['91/13=7', '40-7=33', '33+12=45'].\\n\\nThe final result is 45, which matches the target. So that works.\"}]}\n",
    "\"\"\"\n",
    "\n",
    "# flip it so when we index \"original_idx\" we get line['messages'][1]['reasoning_content'] + \"\\n\" + line['messages'][1]['content']\n",
    "\n",
    "text_only = [None] * len(lines)\n",
    "for line in lines:\n",
    "    idx = line['original_idx']\n",
    "    text_only[idx] = (line['messages'][1]['reasoning_content'] + \"\\n\" + line['messages'][1]['content'])\n",
    "    \n",
    "# remove None\n",
    "text_only = [p for p in text_only if p is not None]\n",
    "\n",
    "data = data.add_column(\"completion\", text_only)\n",
    "    \n",
    "data = data.map( lambda x: {\n",
    "    'messages_deepseek': [\n",
    "        {'role': 'user', 'content': x['messages_sos'][0]['content']},\n",
    "        {'role': 'assistant', 'content': x['completion']}\n",
    "        ]\n",
    "})\n",
    "data = data.select_columns([\"messages_deepseek\", \"nums\", \"target\", \"solution\", \"completion\"])\n",
    "data = data.add_column(\"parsed_results\", list(map(evaluate_countdown_trajectory, data)))"
   ]
  },
  {
   "cell_type": "code",
   "execution_count": null,
   "metadata": {},
   "outputs": [
    {
     "data": {
      "text/plain": [
       "Dataset({\n",
       "    features: ['messages_deepseek', 'nums', 'target', 'solution', 'completion', 'parsed_results'],\n",
       "    num_rows: 8000\n",
       "})"
      ]
     },
     "execution_count": 11,
     "metadata": {},
     "output_type": "execute_result"
    }
   ],
   "source": [
    "data"
   ]
  },
  {
   "cell_type": "code",
   "execution_count": 15,
   "metadata": {},
   "outputs": [
    {
     "name": "stdout",
     "output_type": "stream",
     "text": [
      "0.7895\n"
     ]
    },
    {
     "data": {
      "application/vnd.jupyter.widget-view+json": {
       "model_id": "5af45adfe764492ba1c1c94657b96188",
       "version_major": 2,
       "version_minor": 0
      },
      "text/plain": [
       "Filter:   0%|          | 0/8000 [00:00<?, ? examples/s]"
      ]
     },
     "metadata": {},
     "output_type": "display_data"
    }
   ],
   "source": [
    "results = sum([d['parsed_results']['solved'] for d in data]) / len(data)\n",
    "print(results)\n",
    "data = data.remove_columns([\"completion\"])\n",
    "\n",
    "data_rejection_sampled = data.filter(lambda x: x['parsed_results']['solved'])\n",
    "# data_rejection_sampled = data_rejection_sampled.rename_column(\"messages_deepseek\", \"messages\")"
   ]
  },
  {
   "cell_type": "code",
   "execution_count": 27,
   "metadata": {},
   "outputs": [
    {
     "name": "stdout",
     "output_type": "stream",
     "text": [
      "Loading dataset from Hugging Face...\n"
     ]
    },
    {
     "ename": "NameError",
     "evalue": "name 'evaluate_countdown_trajectory' is not defined",
     "output_type": "error",
     "traceback": [
      "\u001b[0;31m---------------------------------------------------------------------------\u001b[0m",
      "\u001b[0;31mNameError\u001b[0m                                 Traceback (most recent call last)",
      "Cell \u001b[0;32mIn[27], line 14\u001b[0m\n\u001b[1;32m      6\u001b[0m dataset_test \u001b[38;5;241m=\u001b[39m dataset_test\u001b[38;5;241m.\u001b[39mrename_column(\u001b[38;5;124m\"\u001b[39m\u001b[38;5;124mmessages_sos\u001b[39m\u001b[38;5;124m\"\u001b[39m, \u001b[38;5;124m\"\u001b[39m\u001b[38;5;124mmessages_deepseek\u001b[39m\u001b[38;5;124m\"\u001b[39m)\n\u001b[1;32m      9\u001b[0m dataset_test \u001b[38;5;241m=\u001b[39m dataset_test\u001b[38;5;241m.\u001b[39mmap( \u001b[38;5;28;01mlambda\u001b[39;00m x: {\n\u001b[1;32m     10\u001b[0m     \u001b[38;5;124m'\u001b[39m\u001b[38;5;124mcompletion\u001b[39m\u001b[38;5;124m'\u001b[39m: x[\u001b[38;5;124m'\u001b[39m\u001b[38;5;124mmessages_deepseek\u001b[39m\u001b[38;5;124m'\u001b[39m][\u001b[38;5;241m1\u001b[39m][\u001b[38;5;124m'\u001b[39m\u001b[38;5;124mcontent\u001b[39m\u001b[38;5;124m'\u001b[39m],\n\u001b[1;32m     11\u001b[0m })\n\u001b[0;32m---> 14\u001b[0m dataset_test \u001b[38;5;241m=\u001b[39m dataset_test\u001b[38;5;241m.\u001b[39madd_column(\u001b[38;5;124m\"\u001b[39m\u001b[38;5;124mparsed_results\u001b[39m\u001b[38;5;124m\"\u001b[39m, \u001b[38;5;28mlist\u001b[39m(\u001b[38;5;28mmap\u001b[39m(\u001b[43mevaluate_countdown_trajectory\u001b[49m, dataset_test)))\n\u001b[1;32m     15\u001b[0m dataset_test \u001b[38;5;241m=\u001b[39m dataset_test\u001b[38;5;241m.\u001b[39mremove_columns([\u001b[38;5;124m\"\u001b[39m\u001b[38;5;124mcompletion\u001b[39m\u001b[38;5;124m\"\u001b[39m])\n",
      "\u001b[0;31mNameError\u001b[0m: name 'evaluate_countdown_trajectory' is not defined"
     ]
    }
   ],
   "source": [
    "print(\"Loading dataset from Hugging Face...\")\n",
    "dataset_test = load_dataset(\"MelinaLaimon/stream-of-search\", split=\"test\").select(range(1000))\n",
    "\n",
    "# Prepare test dataset\n",
    "dataset_test = dataset_test.select_columns([\"messages_sos\", \"nums\", \"target\", \"solution\"])\n",
    "dataset_test = dataset_test.rename_column(\"messages_sos\", \"messages_deepseek\")\n",
    "\n",
    "\n",
    "dataset_test = dataset_test.map( lambda x: {\n",
    "    'completion': x['messages_deepseek'][1]['content'],\n",
    "})\n",
    "\n",
    "\n",
    "dataset_test = dataset_test.add_column(\"parsed_results\", list(map(evaluate_countdown_trajectory, dataset_test)))\n",
    "dataset_test = dataset_test.remove_columns([\"completion\"])"
   ]
  },
  {
   "cell_type": "code",
   "execution_count": 28,
   "metadata": {},
   "outputs": [],
   "source": [
    "from datasets import load_dataset\n",
    "dataset_sos = load_dataset(\"MelinaLaimon/stream-of-search\", split=\"train[0%:20%]\")\n",
    "dataset_sos_react = load_dataset(\"MelinaLaimon/stream-of-search\", split=\"train[20%:40%]\")\n",
    "dataset_train_optimal = load_dataset(\"MelinaLaimon/stream-of-search\", split=\"train[40%:50%]\")\n",
    "\n",
    "dataset_train_combined = {\n",
    "    \"sos\": dataset_sos.select_columns(['messages_sos', 'nums', 'target', 'solution']),\n",
    "    \"sos_react\": dataset_sos_react.select_columns(['messages_sos_react', 'nums', 'target', 'solution']),\n",
    "    \"optimal\": dataset_train_optimal.select_columns(['messages_optimal', 'nums', 'target', 'solution']),\n",
    "}"
   ]
  },
  {
   "cell_type": "code",
   "execution_count": 29,
   "metadata": {},
   "outputs": [],
   "source": [
    "dataset_train_combined[\"sos\"] = dataset_train_combined[\"sos\"].rename_column(\"messages_sos\", \"messages_deepseek\")\n",
    "dataset_train_combined[\"sos_react\"] = dataset_train_combined[\"sos_react\"].rename_column(\"messages_sos_react\", \"messages_deepseek\")\n",
    "dataset_train_combined[\"optimal\"] = dataset_train_combined[\"optimal\"].rename_column(\"messages_optimal\", \"messages_deepseek\")"
   ]
  },
  {
   "cell_type": "code",
   "execution_count": 30,
   "metadata": {},
   "outputs": [],
   "source": [
    "dataset_deepseek = load_dataset(\"yeok/stream-of-search-dataset_deepseek_rejection_sampled\")\n",
    "dataset_deepseek['train'] = dataset_deepseek['train'].select(range(5000))"
   ]
  },
  {
   "cell_type": "code",
   "execution_count": null,
   "metadata": {},
   "outputs": [],
   "source": [
    "from datasets import concatenate_datasets, DatasetDict\n",
    "dataset_deepseek['train'] = concatenate_datasets([\n",
    "    dataset_deepseek['train'],\n",
    "    dataset_train_combined[\"sos\"],\n",
    "    dataset_train_combined[\"sos_react\"],\n",
    "    dataset_train_combined[\"optimal\"],\n",
    "])"
   ]
  },
  {
   "cell_type": "code",
   "execution_count": null,
   "metadata": {},
   "outputs": [],
   "source": [
    "dataset_deepseek['train'] = dataset_deepseek['train'].shuffle(seed=42)"
   ]
  },
  {
   "cell_type": "code",
   "execution_count": 45,
   "metadata": {},
   "outputs": [
    {
     "data": {
      "text/plain": [
       "{'messages_deepseek': [{'content': \"Combine these initial numbers [64, 66, 11, 48] using only arithmetic operations (+, -, *, /) to reach the target value 74. All initial numbers must be used exactly once.\\nConclude with the final result in EXACTLY this format:\\n```\\nSOLUTION: YES/NO\\nOPERATIONS: list of string of operations performed, each string involving only 1 operation. For example, ['A+B=C','C+D=E'] is allowed, ['A+B+D=E'] is not allowed\\nRESULT: final_value\\n```\\n\",\n",
       "   'role': 'user'},\n",
       "  {'content': \"Current State: 74:[64, 66, 11, 48], Operations: []\\nExploring Operation: 66-64=2, Resulting Numbers: [11, 48, 2]\\nGenerated Node #2: [11, 48, 2] from Operation: 66-64=2\\nCurrent State: 74:[11, 48, 2], Operations: ['66-64=2']\\nExploring Operation: 48-11=37, Resulting Numbers: [2, 37]\\nGenerated Node #3: [2, 37] from Operation: 48-11=37\\nCurrent State: 74:[2, 37], Operations: ['66-64=2', '48-11=37']\\nExploring Operation: 2*37=74, Resulting Numbers: [74]\\n74,74 equal: Goal Reached\\n\\n```\\nSOLUTION: YES\\nOPERATIONS: ['66-64=2', '48-11=37', '2*37=74']\\nRESULT: 74\\n```\\n\",\n",
       "   'role': 'assistant'}],\n",
       " 'nums': [64, 66, 11, 48],\n",
       " 'target': 74,\n",
       " 'solution': ['66-64=2', '48-11=37', '2*37=74'],\n",
       " 'parsed_results': None}"
      ]
     },
     "execution_count": 45,
     "metadata": {},
     "output_type": "execute_result"
    }
   ],
   "source": [
    "dataset_deepseek['train'][10]"
   ]
  },
  {
   "cell_type": "code",
   "execution_count": 36,
   "metadata": {},
   "outputs": [
    {
     "data": {
      "application/vnd.jupyter.widget-view+json": {
       "model_id": "de471a367b8340fc9d15fc5b548ec17e",
       "version_major": 2,
       "version_minor": 0
      },
      "text/plain": [
       "Uploading the dataset shards:   0%|          | 0/1 [00:00<?, ?it/s]"
      ]
     },
     "metadata": {},
     "output_type": "display_data"
    },
    {
     "data": {
      "application/vnd.jupyter.widget-view+json": {
       "model_id": "488b0758d32f44c0a1264c931bc76f12",
       "version_major": 2,
       "version_minor": 0
      },
      "text/plain": [
       "Creating parquet from Arrow format:   0%|          | 0/1 [00:00<?, ?ba/s]"
      ]
     },
     "metadata": {},
     "output_type": "display_data"
    },
    {
     "data": {
      "application/vnd.jupyter.widget-view+json": {
       "model_id": "5c34664e70fd4df8aa19dccc4e5621bc",
       "version_major": 2,
       "version_minor": 0
      },
      "text/plain": [
       "Uploading the dataset shards:   0%|          | 0/1 [00:00<?, ?it/s]"
      ]
     },
     "metadata": {},
     "output_type": "display_data"
    },
    {
     "data": {
      "application/vnd.jupyter.widget-view+json": {
       "model_id": "160cab0737cd4b869f317e814cf6ba2e",
       "version_major": 2,
       "version_minor": 0
      },
      "text/plain": [
       "Creating parquet from Arrow format:   0%|          | 0/10 [00:00<?, ?ba/s]"
      ]
     },
     "metadata": {},
     "output_type": "display_data"
    },
    {
     "data": {
      "application/vnd.jupyter.widget-view+json": {
       "model_id": "9d6f9483aefb49a897834530e828d7dc",
       "version_major": 2,
       "version_minor": 0
      },
      "text/plain": [
       "  0%|          | 0/1 [00:00<?, ?it/s]"
      ]
     },
     "metadata": {},
     "output_type": "display_data"
    },
    {
     "name": "stderr",
     "output_type": "stream",
     "text": [
      "/cs/student/msc/ml/2024/ycheah/disk/miniconda3/envs/sos1/lib/python3.10/site-packages/huggingface_hub/lfs.py:337: UserWarning: hf_transfer is enabled but does not support uploading from bytes or BinaryIO, falling back to regular upload\n",
      "  warnings.warn(\n"
     ]
    },
    {
     "data": {
      "application/vnd.jupyter.widget-view+json": {
       "model_id": "c3c58668a0164ed4af2f0e322d376e9c",
       "version_major": 2,
       "version_minor": 0
      },
      "text/plain": [
       "README.md:   0%|          | 0.00/822 [00:00<?, ?B/s]"
      ]
     },
     "metadata": {},
     "output_type": "display_data"
    },
    {
     "data": {
      "text/plain": [
       "CommitInfo(commit_url='https://huggingface.co/datasets/yeok/stream-of-search-dataset_deepseek_mixed/commit/c916654f5eb48e09b31ff858053ea7ff97247112', commit_message='Upload dataset', commit_description='', oid='c916654f5eb48e09b31ff858053ea7ff97247112', pr_url=None, repo_url=RepoUrl('https://huggingface.co/datasets/yeok/stream-of-search-dataset_deepseek_mixed', endpoint='https://huggingface.co', repo_type='dataset', repo_id='yeok/stream-of-search-dataset_deepseek_mixed'), pr_revision=None, pr_num=None)"
      ]
     },
     "execution_count": 36,
     "metadata": {},
     "output_type": "execute_result"
    }
   ],
   "source": [
    "from datasets import concatenate_datasets, DatasetDict\n",
    "\n",
    "new_ds = DatasetDict(dataset_deepseek)\n",
    "new_ds.push_to_hub(\"yeok/stream-of-search-dataset_deepseek_mixed\")"
   ]
  },
  {
   "cell_type": "code",
   "execution_count": null,
   "metadata": {},
   "outputs": [
    {
     "data": {
      "application/vnd.jupyter.widget-view+json": {
       "model_id": "e02831db8e014faf9a8a5d01c96dcd6b",
       "version_major": 2,
       "version_minor": 0
      },
      "text/plain": [
       "Uploading the dataset shards:   0%|          | 0/1 [00:00<?, ?it/s]"
      ]
     },
     "metadata": {},
     "output_type": "display_data"
    },
    {
     "data": {
      "application/vnd.jupyter.widget-view+json": {
       "model_id": "d329a97abe6242e89526226f0c0cc2af",
       "version_major": 2,
       "version_minor": 0
      },
      "text/plain": [
       "Creating parquet from Arrow format:   0%|          | 0/1 [00:00<?, ?ba/s]"
      ]
     },
     "metadata": {},
     "output_type": "display_data"
    },
    {
     "data": {
      "application/vnd.jupyter.widget-view+json": {
       "model_id": "401b32fb0a6f4e9aaf8c3bc56739a54f",
       "version_major": 2,
       "version_minor": 0
      },
      "text/plain": [
       "  0%|          | 0/1 [00:00<?, ?it/s]"
      ]
     },
     "metadata": {},
     "output_type": "display_data"
    },
    {
     "data": {
      "application/vnd.jupyter.widget-view+json": {
       "model_id": "a8deab75becd498f824f857fbd4cfede",
       "version_major": 2,
       "version_minor": 0
      },
      "text/plain": [
       "Uploading the dataset shards:   0%|          | 0/1 [00:00<?, ?it/s]"
      ]
     },
     "metadata": {},
     "output_type": "display_data"
    },
    {
     "data": {
      "application/vnd.jupyter.widget-view+json": {
       "model_id": "abeb3c6a190f485984d5359cdf8f6f6b",
       "version_major": 2,
       "version_minor": 0
      },
      "text/plain": [
       "Creating parquet from Arrow format:   0%|          | 0/7 [00:00<?, ?ba/s]"
      ]
     },
     "metadata": {},
     "output_type": "display_data"
    },
    {
     "data": {
      "application/vnd.jupyter.widget-view+json": {
       "model_id": "8050c2d2ee21486a97e453add5a38c1a",
       "version_major": 2,
       "version_minor": 0
      },
      "text/plain": [
       "  0%|          | 0/1 [00:00<?, ?it/s]"
      ]
     },
     "metadata": {},
     "output_type": "display_data"
    },
    {
     "name": "stderr",
     "output_type": "stream",
     "text": [
      "/cs/student/msc/ml/2024/ycheah/disk/miniconda3/envs/sos1/lib/python3.10/site-packages/huggingface_hub/lfs.py:337: UserWarning: hf_transfer is enabled but does not support uploading from bytes or BinaryIO, falling back to regular upload\n",
      "  warnings.warn(\n"
     ]
    },
    {
     "data": {
      "application/vnd.jupyter.widget-view+json": {
       "model_id": "cabe40b5d5cd40ab843f1d8a3e024a72",
       "version_major": 2,
       "version_minor": 0
      },
      "text/plain": [
       "Uploading the dataset shards:   0%|          | 0/1 [00:00<?, ?it/s]"
      ]
     },
     "metadata": {},
     "output_type": "display_data"
    },
    {
     "data": {
      "application/vnd.jupyter.widget-view+json": {
       "model_id": "95bb348db06547dd9b598bb9fb618820",
       "version_major": 2,
       "version_minor": 0
      },
      "text/plain": [
       "Creating parquet from Arrow format:   0%|          | 0/1 [00:00<?, ?ba/s]"
      ]
     },
     "metadata": {},
     "output_type": "display_data"
    },
    {
     "data": {
      "application/vnd.jupyter.widget-view+json": {
       "model_id": "481812945bd3477393fa77cd4292e3bb",
       "version_major": 2,
       "version_minor": 0
      },
      "text/plain": [
       "  0%|          | 0/1 [00:00<?, ?it/s]"
      ]
     },
     "metadata": {},
     "output_type": "display_data"
    },
    {
     "data": {
      "application/vnd.jupyter.widget-view+json": {
       "model_id": "a217db9ed9104c88adcecd7c5f88daed",
       "version_major": 2,
       "version_minor": 0
      },
      "text/plain": [
       "Uploading the dataset shards:   0%|          | 0/1 [00:00<?, ?it/s]"
      ]
     },
     "metadata": {},
     "output_type": "display_data"
    },
    {
     "data": {
      "application/vnd.jupyter.widget-view+json": {
       "model_id": "97661da5db3246268adf293ca9e20537",
       "version_major": 2,
       "version_minor": 0
      },
      "text/plain": [
       "Creating parquet from Arrow format:   0%|          | 0/8 [00:00<?, ?ba/s]"
      ]
     },
     "metadata": {},
     "output_type": "display_data"
    },
    {
     "data": {
      "application/vnd.jupyter.widget-view+json": {
       "model_id": "7fed5ade09a4400a896bd9b1b9e5ba5e",
       "version_major": 2,
       "version_minor": 0
      },
      "text/plain": [
       "  0%|          | 0/1 [00:00<?, ?it/s]"
      ]
     },
     "metadata": {},
     "output_type": "display_data"
    },
    {
     "data": {
      "text/plain": [
       "CommitInfo(commit_url='https://huggingface.co/datasets/yeok/stream-of-search-dataset_full/commit/d44b911e1af36d5d1e25c162c385aec9c960a5b8', commit_message='Upload dataset', commit_description='', oid='d44b911e1af36d5d1e25c162c385aec9c960a5b8', pr_url=None, repo_url=RepoUrl('https://huggingface.co/datasets/yeok/stream-of-search-dataset_full', endpoint='https://huggingface.co', repo_type='dataset', repo_id='yeok/stream-of-search-dataset_full'), pr_revision=None, pr_num=None)"
      ]
     },
     "execution_count": 38,
     "metadata": {},
     "output_type": "execute_result"
    }
   ],
   "source": [
    "from datasets import DatasetDict\n",
    "dataset_total = {}\n",
    "dataset_total[\"test\"] = dataset_test\n",
    "dataset_total[\"train\"] = data_rejection_sampled\n",
    "new_ds = DatasetDict(dataset_total)\n",
    "new_ds.push_to_hub(\"yeok/stream-of-search-dataset_rejection_sampled\")\n",
    "\n",
    "from datasets import DatasetDict\n",
    "dataset_total = {}\n",
    "dataset_total[\"test\"] = dataset_test\n",
    "dataset_total[\"train\"] = data\n",
    "new_ds = DatasetDict(dataset_total)\n",
    "new_ds.push_to_hub(\"yeok/stream-of-search-dataset_full\")\n"
   ]
  },
  {
   "cell_type": "code",
   "execution_count": 102,
   "metadata": {},
   "outputs": [
    {
     "name": "stdout",
     "output_type": "stream",
     "text": [
      "Loading dataset from Hugging Face...\n"
     ]
    }
   ],
   "source": [
    "print(\"Loading dataset from Hugging Face...\")\n",
    "dataset_test = load_dataset(\"MelinaLaimon/stream-of-search\", split=\"test\").select(range(1000))\n",
    "\n",
    "dataset_total = {}\n",
    "\n",
    "# Prepare test dataset\n",
    "dataset_test = dataset_test.select_columns([\"messages_sos\", \"nums\", \"target\", \"solution\"])\n",
    "dataset_test = dataset_test.rename_column(\"messages_sos\", \"messages\")\n",
    "dataset_total[\"test\"] = dataset_test"
   ]
  },
  {
   "cell_type": "code",
   "execution_count": null,
   "metadata": {},
   "outputs": [],
   "source": [
    "from datasets import concatenate_datasets\n",
    "data_sos = load_dataset(\"MelinaLaimon/stream-of-search\", split=\"train\").select(range(5000))\n",
    "data_sos = data_sos.select_columns([\"messages_sos\", \"nums\", \"target\", \"solution\"])\n",
    "data_sos = data_sos.rename_column(\"messages_sos\", \"messages\")\n",
    "\n",
    "dataset_total[\"train\"] = concatenate_datasets([data_rejection_sampled.select(range(5000)), data_sos])\n",
    "dataset_total[\"train\"] = dataset_total[\"train\"].shuffle(seed=42)\n"
   ]
  },
  {
   "cell_type": "code",
   "execution_count": 104,
   "metadata": {},
   "outputs": [],
   "source": [
    "dataset_total[\"train\"] = dataset_total[\"train\"].select_columns([\"messages\", \"nums\", \"target\", \"solution\"])"
   ]
  },
  {
   "cell_type": "code",
   "execution_count": 109,
   "metadata": {},
   "outputs": [
    {
     "data": {
      "text/plain": [
       "{'messages': [{'content': \"Okay, let's see. I need to combine the numbers 33, 88, 8, and 65 using each exactly once with arithmetic operations to reach 43. Hmm. All numbers must be used, so maybe I can pair them up first and then combine the results. Let me think of different combinations.\\n\\nFirst, let's list the numbers: 33, 88, 8, 65. The target is 43. So maybe I can find pairs that get me closer. Let's see. For example, 88 and 8. 88 divided by 8 is 11. That's a nice number. Then I have 33 and 65 left. 33 plus 65 is 98. Then 98 minus 11 would be 87. Not 43. Alternatively, maybe 65 minus 33 is 32. 32 plus 11 is 43. Oh, wait! Wait a minute. Let's check that again.\\n\\nIf I do 88 / 8 = 11. Then take 65 - 33 = 32. Then add 32 + 11 = 43. That uses all four numbers. Let me verify each step. First operation: 88 divided by 8 equals 11. Then 65 minus 33 equals 32. Then 32 plus 11 equals 43. Yes, that uses all four numbers once each. So the operations would be:\\n\\n88 / 8 = 11 (using 88 and 8)\\n65 - 33 = 32 (using 65 and 33)\\n32 + 11 = 43 (using the results of the first two operations)\\n\\nSo all initial numbers are used exactly once. That should work. Let me double-check the arithmetic. 88 divided by 8 is indeed 11. 65 minus 33 is 32. 32 plus 11 is 43. Perfect. That gives the target. So the solution is yes, and the operations would be in that order.\\nSOLUTION: YES  \\nOPERATIONS: ['88/8=11', '65-33=32', '32+11=43']  \\nRESULT: 43\",\n",
       "   'role': 'user'}],\n",
       " 'nums': [33, 88, 8, 65],\n",
       " 'target': 43,\n",
       " 'solution': ['65-33=32', '88/8=11', '32+11=43']}"
      ]
     },
     "execution_count": 109,
     "metadata": {},
     "output_type": "execute_result"
    }
   ],
   "source": [
    "dataset_total[\"train\"][8000]"
   ]
  },
  {
   "cell_type": "code",
   "execution_count": 71,
   "metadata": {},
   "outputs": [],
   "source": [
    "from datasets import concatenate_datasets\n",
    "data_concat = concatenate_datasets([data, data_sos])"
   ]
  },
  {
   "cell_type": "code",
   "execution_count": 93,
   "metadata": {},
   "outputs": [
    {
     "data": {
      "text/plain": [
       "Dataset({\n",
       "    features: ['messages', 'nums', 'target', 'solution'],\n",
       "    num_rows: 10000\n",
       "})"
      ]
     },
     "execution_count": 93,
     "metadata": {},
     "output_type": "execute_result"
    }
   ],
   "source": [
    "dataset_total"
   ]
  },
  {
   "cell_type": "code",
   "execution_count": 92,
   "metadata": {},
   "outputs": [
    {
     "ename": "ValueError",
     "evalue": "dictionary update sequence element #0 has length 4; 2 is required",
     "output_type": "error",
     "traceback": [
      "\u001b[0;31m---------------------------------------------------------------------------\u001b[0m",
      "\u001b[0;31mValueError\u001b[0m                                Traceback (most recent call last)",
      "Cell \u001b[0;32mIn[92], line 2\u001b[0m\n\u001b[1;32m      1\u001b[0m \u001b[38;5;28;01mfrom\u001b[39;00m\u001b[38;5;250m \u001b[39m\u001b[38;5;21;01mdatasets\u001b[39;00m\u001b[38;5;250m \u001b[39m\u001b[38;5;28;01mimport\u001b[39;00m DatasetDict\n\u001b[0;32m----> 2\u001b[0m new_ds \u001b[38;5;241m=\u001b[39m \u001b[43mDatasetDict\u001b[49m\u001b[43m(\u001b[49m\u001b[43mdataset_total\u001b[49m\u001b[43m)\u001b[49m\n\u001b[1;32m      3\u001b[0m new_ds\u001b[38;5;241m.\u001b[39mpush_to_hub(\u001b[38;5;124m\"\u001b[39m\u001b[38;5;124myeok/stream-of-search-dataset_deepseek_and_sos\u001b[39m\u001b[38;5;124m\"\u001b[39m)\n",
      "\u001b[0;31mValueError\u001b[0m: dictionary update sequence element #0 has length 4; 2 is required"
     ]
    }
   ],
   "source": [
    "from datasets import DatasetDict\n",
    "new_ds = DatasetDict(dataset_total)\n",
    "new_ds.push_to_hub(\"yeok/stream-of-search-dataset_deepseek_and_sos\")"
   ]
  },
  {
   "cell_type": "code",
   "execution_count": null,
   "metadata": {},
   "outputs": [],
   "source": []
  },
  {
   "cell_type": "code",
   "execution_count": 42,
   "metadata": {},
   "outputs": [
    {
     "data": {
      "text/plain": [
       "Dataset({\n",
       "    features: ['messages', 'nums', 'target', 'solution'],\n",
       "    num_rows: 1000\n",
       "})"
      ]
     },
     "execution_count": 42,
     "metadata": {},
     "output_type": "execute_result"
    }
   ],
   "source": [
    "dataset_test"
   ]
  },
  {
   "cell_type": "code",
   "execution_count": 29,
   "metadata": {},
   "outputs": [
    {
     "data": {
      "application/vnd.jupyter.widget-view+json": {
       "model_id": "0273952560404516838da322be762c4a",
       "version_major": 2,
       "version_minor": 0
      },
      "text/plain": [
       "Filter:   0%|          | 0/8000 [00:00<?, ? examples/s]"
      ]
     },
     "metadata": {},
     "output_type": "display_data"
    }
   ],
   "source": [
    "# rejection sample if d['parsed_results']['solved'] then remove from data\n",
    "# data_rejection_sampled = data.filter(lambda x: x['parsed_results']['solved'])\n",
    "\n",
    "data_rejection_sampled = data.filter(lambda x: x['messages_deepseek'] != \"\")\n",
    "\n",
    "\n",
    "\n",
    "\n"
   ]
  },
  {
   "cell_type": "code",
   "execution_count": 23,
   "metadata": {},
   "outputs": [],
   "source": [
    "data = data.select_columns([\"messages_deepseek\", \"nums\", \"target\", \"solution\"])"
   ]
  },
  {
   "cell_type": "code",
   "execution_count": 30,
   "metadata": {},
   "outputs": [
    {
     "data": {
      "text/plain": [
       "Dataset({\n",
       "    features: ['messages_sos', 'nums', 'target', 'solution'],\n",
       "    num_rows: 1000\n",
       "})"
      ]
     },
     "execution_count": 30,
     "metadata": {},
     "output_type": "execute_result"
    }
   ],
   "source": [
    "dataset_test.select_columns([\"messages_sos\", \"nums\", \"target\", \"solution\"])"
   ]
  },
  {
   "cell_type": "code",
   "execution_count": 32,
   "metadata": {},
   "outputs": [
    {
     "data": {
      "text/plain": [
       "[{'content': \"Okay, so I need to combine the numbers 72, 45, 15, and 93 using each exactly once with arithmetic operations to reach 35. Hmm. Let me think. All numbers must be used, and each operation combines two numbers into one, so with four numbers, I need three operations. Let's see.\\n\\nFirst, maybe I can try different groupings. Let's consider the operations step by step. Let's start by pairing some numbers. For example, if I subtract two numbers to get a smaller value. Like 72 minus 45 would be 27. Then I have 27, 15, 93 left. Hmm, not sure how to proceed from there.\\n\\nAlternatively, 93 minus something. Let's see. 93 minus 15 is 78. Then we have 72, 45, 78. But then 78 minus 72 is 6, and 6 minus 45 is -39. Not helpful.\\n\\nWait, maybe division is necessary here. Let's see. For instance, 45 divided by 15 is 3. Then we have 72, 3, 93. Then 72 divided by 3 is 24. Then 24 plus 93 is 117. No, that's too big. Not helpful.\\n\\nWhat about 72 divided by something? Let's think. If I take 72 divided by (something) to get a number that can be combined with others. Let's say 93 minus 45 is 48. Then 72 divided by 48 is 1.5. Then 1.5 times 15 would be 22.5. No, not 35.\\n\\nHmm. Maybe combining two numbers first, then another pair. Like 93 - 45 = 48. Then 72 - 15 = 57. Then 48 and 57... 57 -48=9. Not helpful. Or 48 +57=105. No.\\n\\nAlternatively, 72 + 93 = 165. Then 45 +15=60. 165 -60=105. Nope.\\n\\nWait, maybe there's a way to get a larger number that can be divided by another. Let's think. For example, 93 +15=108. Then 72 -45=27. Then 108 divided by 27 is 4. 4? Not helpful. But how to get to 35 from there. Wait, but then we have two numbers left, but no, we have four numbers, so each step combines two into one. So after two steps, you have two numbers left, then combine them. So steps would be three operations.\\n\\nWait, perhaps first combine 72 and 45. 72 -45=27. Then combine 27 and 15. 27-15=12. Then 12 and 93. 93-12=81. Not 35. No.\\n\\nAlternatively, 72 +45=117. Then 117 -93=24. Then 24 and 15. 24-15=9. No.\\n\\nWait, perhaps division is key here. Let's try 45 divided by 15 first. 45/15=3. Then we have 72, 3, 93. Then maybe 72 -93= -21. Then -21 +3= -18. No. Not helpful.\\n\\nAnother approach: 93 -72=21. Then 45 -15=30. Then 21 +30=51. No. Not 35.\\n\\nWait, maybe 93 minus (something multiplied by another). Let's think. Suppose I do 72 divided by something. Let's see. 72 divided by (93 -45). 93-45 is 48. 72/48=1.5. Then 1.5 *15=22.5. No.\\n\\nAlternatively, 93 - (45 +15) = 93-60=33. Then 72-33=39. Not 35.\\n\\nHmm. What if I do 72 - (45 +15) =72-60=12. Then 93 -12=81. No.\\n\\nWait, another idea. Let's use multiplication and division. Let's see. Maybe 45 divided by 15 is 3. Then 93 minus 72 is 21. Then 21 multiplied by 3 is 63. Not 35.\\n\\nAlternatively, 93 minus 72 is 21. Then 45 divided by 15 is 3. Then 21 plus 3 is 24. Not helpful.\\n\\nWait, perhaps combining numbers in a different way. Let's try this: (93 - (45 + 15)) * (72 / something). Wait, but maybe that's getting too complicated.\\n\\nWait, maybe 72 minus (93 / (45 -15)). Let's compute 45-15=30. 93/30=3.1. Then 72-3.1=68.9. No. Not close to 35.\\n\\nAlternatively, 93 divided by something. 93 divided by 3 is 31. How to get 3? 45 divided by 15. So 45/15=3. Then 93/3=31. Then 72-31=41. Not 35. Close, but not there.\\n\\nHmm. Let's think again. What if I do 72 -45=27. Then 93-27=66. Then 66 divided by 15=4.4. No. Not helpful.\\n\\nAlternatively, 72 +15=87. Then 87 -93= -6. Then 45 - (-6) =51. No.\\n\\nWait, maybe 72 multiplied by 15 is 1080. That's too big. Then 1080 divided by 45=24. Then 24 +93=117. No.\\n\\nAlternatively, 93 - 72 =21. Then 45 -21=24. 24 +15=39. No.\\n\\nAnother approach: Let's think about the target, 35. Let's see if we can get 35 through some combination. 35 is 70/2, or 5*7. Let's see if we can get those numbers. For example, maybe 45 -10=35. How to get 10 from the other numbers. 72,15,93. Hmm. 93-72=21. 21-15=6. Not 10.\\n\\nAlternatively, 45- (93- (72+15)) ?\\n\\nWait, 72+15=87. 93-87=6. 45-6=39. Not 35.\\n\\nHmm. Another idea: Let's see, maybe (72 +93) =165. Then 45+15=60. 165-60=105. Not helpful. Or 165 divided by (45-15)=5.5. 105/5.5=19.09. No.\\n\\nWait, maybe 93 divided by something. Let's see 93 divided by 3 is 31. Then 72 - 31=41. Not 35. But how to get 3.5. Maybe 45/15=3. Then 93 divided by (3 + something) ?\\n\\nAlternatively, (45 +15)=60. 93 -60=33. Then 72 -33=39. No.\\n\\nWait, perhaps 72 - (93 / (45/15)). Let's calculate that. 45/15=3. 93/3=31. Then 72-31=41. Again, not 35.\\n\\nHmm. This is tricky. Maybe I need to use subtraction and division. Let's think: 45 divided by 15 is 3. Then 72 -3=69. Then 93-69=24. No. Not 35.\\n\\nAlternatively, 93 - (72 / (45 -15)). Let's see: 45-15=30. 72/30=2.4. 93 -2.4=90.6. No.\\n\\nAnother angle: Let's consider that 35 is 45-10. How to get 10 from 72,15,93. 72 divided by (93-15) is 72/78=0.923. Not 10. Or 93-72=21. 21-15=6. Not 10.\\n\\nWait, 15 is a number here. Let's see. If we can get 20 from the other numbers, then 15 +20=35. But how to get 20 from 72,45,93. For example, 45 - (93-72) =45-21=24. Not 20. 72 - (93 -45)=72-48=24. Still 24. 72 / (93-45)=72/48=1.5. Then 1.5*45=67.5. Not helpful.\\n\\nAlternatively, (93 -72)=21. 45-21=24. Then 24+15=39. No.\\n\\nWait, perhaps using multiplication and division. Let's see. 93 divided by something. 93/3=31. Then 72-31=41. No. But 45/15=3. So maybe 93/(45/15)=93/3=31. Then 72-31=41. Not 35. Hmm.\\n\\nWait, maybe 45/(93-72) =45/21≈2.142. Then 15 +2.142≈17.142. Not helpful.\\n\\nAlternatively, 72 - (93 -45) =72-48=24. Then 24 *15=360. Then 360 divided by something? But I've already used all numbers. Wait, maybe I messed up the steps. Let's try again.\\n\\nWait, initial numbers are 72,45,15,93. All must be used exactly once. So each step combines two numbers. So first step: combine two into a new number, then next step combines two (the new one and another), and then the last step combines the remaining two.\\n\\nSo, possible approach:\\n\\nFirst operation: 93 - 45 =48. Now we have 72,15,48.\\n\\nSecond operation: 72 - 48=24. Now we have 15 and 24.\\n\\nThird operation: 24 -15=9. Not 35.\\n\\nAlternative first operation: 45 -15=30. Then we have 72,30,93.\\n\\nSecond operation: 93 -72=21. Now 21 and 30. Third operation: 30 -21=9. Still not.\\n\\nAlternatively, first operation 72 / (93 -45) =72/48=1.5. Then 1.5 *15=22.5. Then 22.5 and the remaining number? Wait, no. Let's retrace. If first step is 93-45=48. Then 72 /48=1.5. Then we have 1.5 and 15. Then 1.5*15=22.5. Then what? But we have to use all numbers. Wait, original numbers are 72,45,15,93. Each must be used once. So in this approach, first operation uses 93 and45, then second uses72 and48 (from 93-45). Then third uses 15 and1.5. But 48 is derived from 93 and45, so all original numbers are accounted for. Wait, but in that case, yes. So the steps would be:\\n\\n93 -45=48 (using 93 and45)\\n\\n72 /48=1.5 (using 72 and48)\\n\\n1.5 *15=22.5 (using 1.5 and15). But that's three operations and all original numbers are used. But the result is 22.5, not 35. So that doesn't work.\\n\\nHmm. Let's think again. Maybe a combination involving division and subtraction. Let's try:\\n\\nFirst, 93 -72=21. Then 45 -21=24. Then 24 +15=39. No.\\n\\nAlternatively, 72 -15=57. Then 93-57=36. 36 vs 45. Then 45-36=9. No.\\n\\nWait, perhaps 45 - (93 - (72 +15)). Let's compute inside out: 72+15=87. 93-87=6. 45-6=39. Not 35.\\n\\nAlternatively, 93 - (72 +45)=93-117=-24. Then -24 +15= -9. No.\\n\\nAnother idea: Maybe (72 - (45/15)) * something. 45/15=3. 72-3=69. 69 * (93 - ...) but that's getting complicated. Wait, perhaps 93 / (72/(45-15)). Let's break it down:\\n\\n45-15=30. Then 72/30=2.4. Then 93/2.4=38.75. Not 35.\\n\\nAlternatively, (45*15)=675. Then 93 -72=21. 675/21≈32.14. No.\\n\\nHmm. This is challenging. Let's try a different approach. Let's list all possible pairs for the first operation and see what possibilities arise.\\n\\nFirst operation possibilities:\\n\\nPair 72 and45: possible operations:\\n\\n72+45=117\\n\\n72-45=27\\n\\n45-72=-27\\n\\n72*45=3240\\n\\n72/45=1.6\\n\\n45/72=0.625\\n\\nPair 72 and15:\\n\\n72+15=87\\n\\n72-15=57\\n\\n15-72=-57\\n\\n72*15=1080\\n\\n72/15=4.8\\n\\n15/72≈0.208\\n\\nPair 72 and93:\\n\\n72+93=165\\n\\n72-93=-21\\n\\n93-72=21\\n\\n72*93=6696\\n\\n72/93≈0.774\\n\\n93/72≈1.2917\\n\\nPair 45 and15:\\n\\n45+15=60\\n\\n45-15=30\\n\\n15-45=-30\\n\\n45*15=675\\n\\n45/15=3\\n\\n15/45=0.333...\\n\\nPair 45 and93:\\n\\n45+93=138\\n\\n45-93=-48\\n\\n93-45=48\\n\\n45*93=4185\\n\\n45/93≈0.4839\\n\\n93/45=2.066...\\n\\nPair 15 and93:\\n\\n15+93=108\\n\\n15-93=-78\\n\\n93-15=78\\n\\n15*93=1395\\n\\n15/93≈0.161\\n\\n93/15=6.2\\n\\nSo, after the first operation, the possible intermediate numbers could be various. Let's try to pick an operation that might lead towards 35.\\n\\nLooking for intermediate numbers that can combine in later steps. Let's see:\\n\\nFor example, if we first do 93-45=48. Then, we have 72,15,48. Next, possible operations:\\n\\n72 and15: as above. Maybe 72-15=57. Then 57 and48. 57-48=9. Not helpful. Or 72/15=4.8, then 4.8*48=230.4. No.\\n\\nAlternatively, 48-15=33. Then 72-33=39. No.\\n\\nAlternatively, 72/48=1.5. Then 1.5*15=22.5. No.\\n\\nAlternatively, 48+15=63. Then 72-63=9. No.\\n\\nHmm. Not useful.\\n\\nAnother first operation: 45/15=3. Then, remaining numbers:72,93,3. Next steps:\\n\\nPossible operations between 72 and93. For example, 93-72=21. Then 21 and3. 21*3=63. Then 63? No. Or 72+93=165. 165/3=55. No.\\n\\nAlternatively, 72/3=24. Then 24 and93. 93-24=69. No.\\n\\nAlternatively, 93/3=31. Then 72-31=41. No.\\n\\nNot helpful.\\n\\nAnother first operation: 93-72=21. Remaining numbers:45,15,21. Next steps:\\n\\n45-15=30. Then 30 and21. 30-21=9. No.\\n\\nAlternatively, 45+15=60. 60-21=39. No.\\n\\nAlternatively, 45/15=3. Then 3*21=63. No.\\n\\nHmm.\\n\\nAnother first operation: 72 - (45/15). Wait, but first operation must use two numbers. So first step is 45/15=3. Then 72-3=69. Then we have 93 and69. 93-69=24. No.\\n\\nAlternatively, first step 45/15=3. Then 93-3=90. Then 90-72=18. No.\\n\\nAnother idea: Let's see, 45 divided by 15 is 3, then 93 minus 3 is 90, then 90 minus72=18. Not helpful.\\n\\nHmm. Maybe first operation 72-45=27. Then 27,15,93. Then 27+15=42. 93-42=51. No. Alternatively, 93-27=66. 66-15=51. No.\\n\\nAlternatively, 93/27≈3.444. Then 3.444 *15≈51.666. No.\\n\\nAlternatively, 27*15=405. 405-93=312. No.\\n\\nHmm. What if the first operation is 72+15=87. Then 87,45,93. Then 87-45=42. 93-42=51. No. Or 93+45=138. 138-87=51. No.\\n\\nAlternatively, 93-87=6. 45-6=39. No.\\n\\nAnother first operation: 15 * something. Let's say 15 *93=1395. That's way too big. Not helpful.\\n\\nAlternatively, 93/15=6.2. Then 6.2 *45=279. Then 279-72=207. No.\\n\\nHmm. Maybe first operation 45-15=30. Then 72,30,93. Next steps: 93-72=21. Then 21+30=51. No. Or 30+72=102. 102-93=9. No.\\n\\nAlternatively, 72/30=2.4. Then 2.4 *93=223.2. No.\\n\\nAnother approach: Let's think of the final step. Suppose the last operation is something minus something equals 35. For example, x - y =35. Then x and y must be combinations of the previous operations. So x=35 + y. So possible pairs could be (35+y, y). But how to get those from the numbers.\\n\\nAlternatively, x divided by y =35. But 35 is a prime number, so unless x is 35 and y is 1, but that's unlikely given the numbers. Maybe multiplication: x * y =35. But 35 factors are 5 and7, but our numbers are larger.\\n\\nAlternatively, addition: x + y=35. But since we start with numbers all larger than 15 except 15, this would require negative numbers. But maybe possible through earlier subtractions.\\n\\nWait, perhaps the final operation is subtraction. For example, 70 -35=35, but how to get 70? Let's think.\\n\\nWait, perhaps (93 +72) =165. Then 165 divided by (something) equals 35. 165/35=4.714. So if we can get 4.714 from the remaining numbers 45 and15. 45/15=3. Not enough. Hmm.\\n\\nAlternatively, (72 +45)=117. 117/ (something)=35. 117/35≈3.342. How to get that from 93 and15. 93/15=6.2. Not helpful.\\n\\nAnother idea: 93 - (something) =35. So something would be 58. How to get 58 from 72,45,15. Let's see: 72 - (45-15)=72-30=42. Not 58. 45 +15=60. 72-60=12. No. 72 -45=27. 27+15=42. Not 58.\\n\\nHmm. Alternatively, 45 +15=60. 72 -60=12. 93-12=81. No.\\n\\nWait, maybe 72- (93 - (45 +15)) =72 - (93-60)=72-33=39. Not 35.\\n\\nAlternatively, 45 +15=60. 93-60=33. 72-33=39. Again, same result.\\n\\nHmm. Let's think differently. Let's consider that we might need to use fractions. For example, if we have 93 divided by some number to get a small value. \\n\\nAnother possible path: First, combine 45 and 15 into 3 (45/15=3). Then, combine 93 and3 into 93/3=31. Then, 72 -31=41. Not 35. Close, but not quite.\\n\\nWait, wait. Let me check that again. So first step: 45 /15=3. Second step: 93 /3=31. Third step:72 -31=41. Yeah. 41. Not 35.\\n\\nBut maybe there's a different order. For example, 93 -45=48. Then 48 /15=3.2. Then 72 -3.2=68.8. No.\\n\\nAlternatively, 72/15=4.8. Then 4.8 * (93-45)=4.8*48=230.4. No.\\n\\nHmm. Let me try another approach. Let's think of possible intermediate steps.\\n\\nLet's see, if we can get 35 as a result of (a - b) where a and b are derived from other operations. For example, a is 70 and b is 35. But how to get a=70.\\n\\nAlternatively, 70 could be (something plus something else). Let's think: 72-2=70. How to get 2? 15 - (something). For example, 93-45=48. 48 divided by 24=2. But how to get 24. 72-48=24. Wait, but this seems complex. Let's outline steps:\\n\\nFirst, 93-45=48.\\n\\nSecond, 72-48=24.\\n\\nThird, 48/24=2.\\n\\nBut that uses three steps already and we'd have numbers left. Wait, no. Wait, each step uses two numbers. So first step: 93-45=48. Now we have 72,15,48.\\n\\nSecond step: 72-48=24. Now we have 15 and24.\\n\\nThird step: 24 /15=1.6. Then 48 (from first step) and1.6. But no, because after three steps, all four original numbers are used, but each step combines two into one. So after three steps, you have one number left, which is the final result. So this approach would end up with 1.6, which is not 35.\\n\\nAlternatively, let's think of combining 93 and15 first. 93-15=78. Then 78 and72,45. 78-72=6. Then 6 +45=51. No.\\n\\nAlternatively, 93*15=1395. Not helpful.\\n\\nHmm. Let me try a different route. Let's see if I can get 35 by multiplying two numbers. 5*7=35. So can I get 5 and7 from the numbers? For example, 45 divided by (something)=5. 45/9=5. How to get 9 from 72,15,93. 93-72=21. 21-15=6. Not 9. 72/8=9. How to get 8. 93-85=8. But 85 is not available. Not helpful.\\n\\nAlternatively, 15 is there. 15 divided by3=5. Then 3 could be from 45/15=3. So 15/(45/15)=15/3=5. Then 5 multiplied by7=35. How to get 7. 72-65=7. 65 from 93-28=65. 28 from 45-17. No, this is getting too convoluted.\\n\\nAlternatively, (72 - (93 -45)) /15. Let's compute: 93-45=48. 72-48=24. 24/15=1.6. No.\\n\\nWait, maybe combining 72 and15 in division. 72/15=4.8. Then 4.8 * (93-45)=4.8*48=230.4. Not helpful.\\n\\nAlternatively, (45-15) =30. Then 93 - (72 /30). 72/30=2.4. 93-2.4=90.6. No.\\n\\nAnother idea: 72 - (93 / (45/15)). Let's compute:\\n\\n45/15=3.\\n\\n93/3=31.\\n\\n72-31=41. Not 35.\\n\\nHmm. What if I do (93 +72) / (45/15). 93+72=165. 45/15=3. 165/3=55. Not 35.\\n\\nAlternatively, (45 *15) - (93 +72). 675 -165=510. No.\\n\\nAlternatively, (93 -72) * (45 -15). 21 *30=630. No.\\n\\nHmm. Maybe I'm missing something obvious. Let's think again. Maybe using subtraction and division in a certain way.\\n\\nWait, what if we do 45 - (93 -72) =45-21=24. Then 24 +15=39. No. Not helpful.\\n\\nAlternatively, (72 +15) =87. Then 93 -87=6. Then 45 -6=39. Again, same as before.\\n\\nAnother angle: Let's use the numbers in a different order. Suppose I first do 72 - 93= -21. Then 45 - (-21)=66. Then 66 /15=4.4. No.\\n\\nAlternatively, 45 +93=138. 138 -72=66. 66 -15=51. No.\\n\\nAlternatively, 93 +15=108. 108 -45=63. 63 -72= -9. No.\\n\\nWait, perhaps 72 / ((93 -45)/15). Let's compute denominator: 93-45=48. 48/15=3.2. Then 72/3.2=22.5. No.\\n\\nHmm. I'm stuck. Let's think of possible combinations again.\\n\\nWait, maybe 45 - (93 - (72 +15)). Let's compute:\\n\\n72 +15=87.\\n\\n93-87=6.\\n\\n45-6=39. Not 35.\\n\\nAlternatively, (93 +15) - (72 +45) =108 -117= -9. No.\\n\\nAnother approach: 72 - (45 +15)=72-60=12. 93-12=81. No.\\n\\nWait, what if I do (93 - (72 - (45 -15))) ?\\n\\nLet's compute inside out: 45-15=30. 72-30=42. 93-42=51. No.\\n\\nAlternatively, ((45 -15) * 93) /72. 30*93=2790. 2790/72=38.75. Close to 35 but not exactly.\\n\\nHmm. Maybe 72 divided by ( (93 -45)/15 ). So 93-45=48. 48/15=3.2. 72 /3.2=22.5. Not helpful.\\n\\nAnother idea: 45 divided by 15 is 3. Then 93 - (72/3)=93-24=69. Then 69 - something? But all numbers are used already. Wait, 72 is used in the division, 45 and15 in the first operation, 93 in the second. So that's all numbers. But the result would be 69, not 35.\\n\\nHmm. I'm really struggling here. Maybe there's a way to combine subtraction and division. For example:\\n\\nLet's try 93 - (72 / (45/15)). Let's compute 45/15=3. Then 72/3=24. Then 93-24=69. Again, no.\\n\\nWait, but what if we do (93 -45) / (72 /15). Let's see: 93-45=48. 72/15=4.8. 48/4.8=10. Then 10. Not helpful.\\n\\nAnother possibility: (45 *15) - 93 -72. 675 -165=510. No.\\n\\nWait, maybe ((93 -72) * (45 -15)) / something. 21 *30=630. 630 / (72 -15)=630/57≈11.05. No.\\n\\nAlternatively, (93 *15) / (72 +45). 1395/117=11.923. No.\\n\\nHmm. Let me think of another possible path. Let's say first operation: 72 - 45=27. Second operation: 93 -15=78. Then third operation: 78 -27=51. No. Or 27 *78=2106. No.\\n\\nAlternatively, first operation: 72 -15=57. Second: 93 -45=48. Third:57 -48=9. No.\\n\\nAlternatively, first operation: 93 -45=48. Second: 48 *15=720. Third:720 /72=10. No.\\n\\nHmm. What if we use division in a way that gives us a fraction that can be multiplied to reach 35. For example, (45/15)=3. Then 72 - (93/3) =72-31=41. As before.\\n\\nAlternatively, (93/ (45/15)) =93/3=31. Then 72 -31=41. Not 35.\\n\\nWait, maybe combining 93 and15 in a different way. 93/15=6.2. Then 45-6.2=38.8. 72-38.8=33.2. No.\\n\\nAlternatively, 93/15=6.2. 6.2 *72=446.4. 446.4/45≈9.92. No.\\n\\nI'm really stuck. Wait, the note says the solution does exist. So perhaps I'm missing something. Let's try again. Maybe the operations are in a different order.\\n\\nLet me try this:\\n\\nFirst operation: 93 - 45 =48. Then second operation: 72 - 48=24. Third operation: 24 +15=39. No.\\n\\nAlternatively, first operation: 45 -15=30. Second: 93 -30=63. Third:63 -72=-9. No.\\n\\nAlternatively, first operation: 72 +15=87. Second:87 -45=42. Third:93 -42=51. No.\\n\\nAlternatively, first operation: 45 +15=60. Second:93 -60=33. Third:72 -33=39. No.\\n\\nWait, what if we do division in the first step. Let's say 72 divided by something. For example, 72/(45-15)=72/30=2.4. Then 93 -2.4=90.6. Then 90.6 and15? 90.6-15=75.6. No.\\n\\nAlternatively, first operation: 72/(93-45)=72/48=1.5. Then 1.5*15=22.5. Then 22.5 and45 (but already used 45 and93 in first step). Wait, no. Wait, initial numbers are 72,45,15,93. All must be used exactly once. So first operation uses 93 and45 to make 48. Second uses 72 and48 to make1.5. Third uses 1.5 and15 to make 22.5. So all numbers are used. But the result is 22.5. Not 35.\\n\\nHmm. Let's think of a different first operation. Like 93 -72=21. Then we have 45,15,21. Second operation: 45 -15=30. Third:30-21=9. No.\\n\\nWait, what if the first operation is 72-45=27. Then 27,15,93. Second operation: 27*15=405. Third: 405-93=312. No.\\n\\nAlternatively, first operation:72*15=1080. Second:1080/45=24. Third:93-24=69. No.\\n\\nAnother approach: Let's think of the required operations as three steps. Let's assign variables:\\n\\nLet’s say the first operation is A op B = X. Then X op C = Y. Then Y op D = 35. All variables must be used once.\\n\\nLet’s try with A=45, B=15. 45/15=3. Then X=3. Then remaining numbers:72,93. Next operation: 72 op 93. Let's say 72+93=165. Then Y=165. Then Y op D: but D is already used. Wait, no. Wait, D is 72,93? No, the remaining numbers after first step are 72,93, and X=3. So second step uses two of these. Suppose we take 93 -3=90. Then Y=90. Third step: 72 -90= -18. No.\\n\\nAlternatively, second step:72 *3=216. Third step:216 op93. 216-93=123. No.\\n\\nAlternatively, second step:93/3=31. Third step:72-31=41. No.\\n\\nHmm.\\n\\nWhat if first operation is 93 -45=48. Then remaining numbers:72,15,48. Second operation:48 -15=33. Then third operation:72-33=39. No.\\n\\nAlternatively, second operation:72+15=87. Third:87-48=39. No.\\n\\nAlternatively, first operation:72*15=1080. Second:1080 /45=24. Third:93-24=69. No.\\n\\nAnother idea: Maybe 72 - (93 - (45 +15)). Let's compute inside out. 45+15=60. 93-60=33. 72-33=39. Again, same as before.\\n\\nWait, maybe there's a way to combine numbers in a way that creates a fraction which when multiplied gives 35. For example:\\n\\nFirst operation:45 -15=30. Second:93 /30=3.1. Third:72 -3.1=68.9. No.\\n\\nAlternatively, first operation:93 /15=6.2. Second:6.2 *45=279. Third:279 -72=207. No.\\n\\nWait, perhaps combining 72 and93 in a way. Like 93 -72=21. Then 21 * (45/15)=21*3=63. Then 63-28=35. Wait, where does 28 come from? We don't have 28. But we have used all numbers. Oh, but wait: 45/15=3. Then 21*3=63. But then we have 72 left. Wait, no. Let me retrace:\\n\\nFirst operation:93-72=21. Then second operation:45/15=3. Then third operation:21*3=63. But that leaves out the 72. No, because after first step, we have 21,45,15. Then second step uses 45 and15. Now after second step, we have 21 and3. Third step uses them. But original numbers include 72, which hasn't been used. So this approach is invalid. Because all original numbers must be used.\\n\\nAh! Here's the mistake. Each operation must use the numbers generated from previous steps and the original numbers. But each original number must be used exactly once. So in this case, if first operation uses 93 and72, then second uses 45 and15, then third uses the two results. Then all four original numbers are used. So let's see:\\n\\nFirst operation:93-72=21.\\n\\nSecond operation:45/15=3.\\n\\nThird operation:21 *3=63.\\n\\nBut the result is 63. Not 35.\\n\\nAlternatively, third operation:21 +3=24. No.\\n\\nAlternatively, 21-3=18. No.\\n\\nHmm. Another possibility: First operation:93 +72=165. Second:45 +15=60. Third:165 -60=105. No.\\n\\nWait, but perhaps third operation is division: 165 /60=2.75. No.\\n\\nHmm. Maybe first operation is 93 -45=48. Second operation:72 /48=1.5. Third operation:1.5 *15=22.5. No.\\n\\nAnother approach: Let's consider using negative numbers. For example, 72 -93=-21. Then 45 - (-21)=66. Then 66 -15=51. No.\\n\\nAlternatively, 15 -45=-30. 93 -(-30)=123. 123-72=51. No.\\n\\nHmm. What if the first operation is 72 - (93 - (45 +15)). Let's compute:\\n\\n45+15=60.\\n\\n93-60=33.\\n\\n72-33=39. No.\\n\\nAnother idea: Let's try to get 35 by combining 70/2. So if we can get 70 and divide by 2. How to get 70. For example, 93-23=70. How to get 23. 72-49=23. 49 from 45+4. No, not helpful.\\n\\nAlternatively, 45 +25=70. How to get 25. 15 +10=25. 10 from 72-62. 62 from 93-31. 31 from 45-14. No, too convoluted.\\n\\nHmm. Maybe I need to think outside the box. Wait, the problem says all numbers must be used exactly once. Each operation uses two numbers and produces a new one. So three operations in total.\\n\\nLet me try this combination:\\n\\nFirst, multiply 45 and15 to get 675. But that's way too big. Then, 675 -93=582. Then 582 -72=510. No.\\n\\nAlternatively, first operation:45*15=675. Second:675 -93=582. Third:582-72=510. No.\\n\\nHmm. Not helpful.\\n\\nAnother possible path: Let's try to use division and subtraction. Let's say:\\n\\nFirst operation:72 / (93 - (45 +15)). Compute inside out:45+15=60. 93-60=33. 72/33≈2.1818. Then 2.1818. But how to use this with the remaining numbers. Wait, but in this case, first operation would need to be 93 - (45 +15) =33. Then 72/33=2.1818. But that's two operations, and leaves 72,93,45,15 all used except one. Hmm, this is getting confusing.\\n\\nWait, step-by-step:\\n\\nFirst operation:45 +15=60. Now we have 72,93,60.\\n\\nSecond operation:93 -60=33. Now we have 72 and33.\\n\\nThird operation:72 -33=39. No.\\n\\nAlternatively, second operation:72 /60=1.2. Third:1.2 *93=111.6. No.\\n\\nHmm. Let's think of combining 93 and15 in a division. 93/15=6.2. Then 45 -6.2=38.8. Then 72-38.8=33.2. No.\\n\\nAnother angle: Let's think of the following:\\n\\nWe need to reach 35. Let's see if we can get 35 as a result of (x - y) where x and y are derived from operations. For example, if x is 70 and y is 35, but how to get 70. Alternatively, x is 35 and y is 0. Not sure.\\n\\nWait, what if we do (72 +45) =117. Then 117 - (93 +15)=117-108=9. No.\\n\\nAlternatively, 72 +45=117. 117 -93=24. 24 -15=9. No.\\n\\nAnother idea: Let's use 72 - (something) =35. So something=72-35=37. How to get 37 from 45,15,93. 45 - (93-15)=45-78=-33. No. 93 - (45 +15)=33. Then 72-33=39. No. \\n\\nHmm. I'm really stuck here. Wait, the user said the solution exists, so there must be a way. Let's think of possible operations that could lead to 35.\\n\\nAh! Wait, perhaps:\\n\\nFirst, subtract 93 and 72: 93 -72=21.\\n\\nThen, subtract 45 and15:45-15=30.\\n\\nThen, add 21 and30:51. No. Not 35.\\n\\nAlternatively, multiply 21 and30:630. No.\\n\\nAlternatively, subtract them:30-21=9. No.\\n\\nAnother approach: Let's think of division in the last step. For example, 105/3=35. So how to get 105 and 3. 105 could be 93 +12. 12 from 72-60. 60 from 45+15. So:\\n\\nFirst operation:45+15=60.\\n\\nSecond operation:72-60=12.\\n\\nThird operation:93+12=105. Then 105 /3=35. But where does the 3 come from? Because we've used all numbers. So no, that doesn't work.\\n\\nAlternatively, first operation:45/15=3.\\n\\nSecond operation:93 +72=165.\\n\\nThird operation:165 /3=55. No.\\n\\nHmm. Alternatively, first operation:72 -45=27. Second operation:93 -27=66. Third operation:66 /15=4.4. No.\\n\\nWait, what if we do:\\n\\nFirst operation:72 +93=165.\\n\\nSecond operation:45 -15=30.\\n\\nThird operation:165 /30=5.5. No.\\n\\nAlternatively, first:72 -45=27. Second:27 +15=42. Third:93 -42=51. No.\\n\\nAnother idea: Let's think of combining 93 and15 first. 93 -15=78. Then 78 -45=33. 33 and72. 72-33=39. No.\\n\\nAlternatively, 78 *45=3510. Not helpful.\\n\\nHmm. Wait, perhaps the following:\\n\\nFirst operation:45 - (93 -72)=45-21=24.\\n\\nSecond operation:24 -15=9. No. But how are the numbers being used? Let me check:\\n\\nFirst operation:93-72=21. Then 45-21=24. Then 24-15=9. But this uses 93,72,45,15. All four. But the operations would be:\\n\\n['93-72=21', '45-21=24', '24-15=9'] which gives 9. Not 35.\\n\\nNo good.\\n\\nAnother possible path: first operation:72 / (45 -15)=72/30=2.4. Second operation:93 -2.4=90.6. Third:90.6 -15=75.6. No.\\n\\nWait, but after first operation, we have 2.4, 45,15,93. But we already used 72 and30 (from 45-15)? No, no. Wait, first operation is 45-15=30. Second operation is 72/30=2.4. Third operation is 93 -2.4=90.6. But that leaves 72 unused in the first step. No, wait: first operation uses 45 and15, producing 30. Then second operation uses 72 and30 (from first step), producing 2.4. Third operation uses 93 and2.4, producing 90.6. But this uses all original numbers:45,15,72,93. Yes. But the result is 90.6. Not 35.\\n\\nHmm. I'm really out of ideas. Let me try to think of division and multiplication.\\n\\nSuppose we multiply 15 by (something) to get 35. 35 /15≈2.333. So if we can get 2.333 from the other numbers.\\n\\nFor example, (93 -45)/(72) =48/72=0.666. 0.666+1.666=2.333. No. Not helpful.\\n\\nAlternatively, 45/ (93-72)=45/21≈2.142. Then 15*2.142≈32.14. Close but not 35.\\n\\nAlternatively, (72/ (93-45))=72/48=1.5. 1.5*15=22.5. No.\\n\\nHmm. Wait, what if I do 45 - (72 / (93 /15)) ?\\n\\nLet's compute:\\n\\n93/15=6.2.\\n\\n72/6.2≈11.613.\\n\\n45-11.613≈33.387. No.\\n\\nAlternatively, 93/15=6.2. Then 45*6.2=279. 279-72=207. No.\\n\\nAnother idea: Let's see, (45 * (72 -93)) +15. 72-93=-21. 45*-21=-945. -945+15=-930. No.\\n\\nHmm. This is really frustrating. Since the user says the solution exists, I must be missing something. Let's try different combinations again.\\n\\nWait, what if we first do 93 -72=21. Then, 45-21=24. Then 24+15=39. No.\\n\\nAlternatively, 21+15=36. Then 45-36=9. No.\\n\\nAnother approach: Use multiplication and division.\\n\\nFirst operation: 45 *15=675.\\n\\nSecond: 93 +72=165.\\n\\nThird:675 /165=4.09. No.\\n\\nAlternatively, 675 -165=510. No.\\n\\nHmm.\\n\\nWait, perhaps first operation:72 - (45/15)=72-3=69.\\n\\nSecond operation:93 -69=24.\\n\\nThird operation:24 +15=39. No.\\n\\nBut that uses 45,15 in first step, 72, then 93 in second, and then 15 again. But wait, 15 was already used in the first operation. Can't use it again. So invalid.\\n\\nAh! That's a mistake. Once a number is used in an operation, it's replaced by the result. So once you use 45 and15 to get 3, you can't use 15 again. So the steps would be:\\n\\nFirst operation:45/15=3. Now numbers are 72,3,93.\\n\\nSecond operation:72-3=69. Now numbers are 69,93.\\n\\nThird operation:93-69=24. No. So this approach uses 45,15,72,93. All numbers. But result is 24. Not 35.\\n\\nHmm. Another approach: First operation:72/15=4.8. Then 93-4.8=88.2. Then 88.2-45=43.2. No.\\n\\nAlternatively, first operation:93 - (72/ (45/15)). So 45/15=3. 72/3=24. 93-24=69. No.\\n\\nAnother idea: 45 + (93 - (72 +15)). 72+15=87. 93-87=6. 45+6=51. No.\\n\\nWait, maybe multiply two numbers and then divide. For example:\\n\\nFirst operation:45 *15=675.\\n\\nSecond operation:93 -72=21.\\n\\nThird operation:675 /21=32.142. No.\\n\\nHmm. What if I do (72 -45) * (93 -15). 27 *78=2106. No.\\n\\nAlternatively, 72 *45=3240. 3240 / (93-15)=3240/78≈41.54. No.\\n\\nAnother possibility: Let's think of using all four numbers in a single expression, but each step uses two numbers.\\n\\nFor example:\\n\\nStep 1:93 -45=48.\\n\\nStep 2:72 /48=1.5.\\n\\nStep 3:1.5 *15=22.5. No.\\n\\nAlternatively:\\n\\nStep 1:45 -15=30.\\n\\nStep 2:93 -30=63.\\n\\nStep 3:72 -63=9. No.\\n\\nAnother angle: Let's use division and subtraction:\\n\\nStep 1:72/45=1.6.\\n\\nStep 2:93 -1.6=91.4.\\n\\nStep 3:91.4 -15=76.4. No.\\n\\nAlternatively, Step 1:72/15=4.8. Step 2:45 -4.8=40.2. Step 3:93-40.2=52.8. No.\\n\\nHmm. Perhaps the key is to use division in a non-integer way and then multiply to get back to 35. For example:\\n\\nStep 1:45 /15=3.\\n\\nStep 2:93 -3=90.\\n\\nStep 3:90 -72=18. No.\\n\\nAlternatively, Step 1:45/15=3. Step 2:72/3=24. Step 3:93-24=69. No.\\n\\nWait, what if we do:\\n\\nStep 1:93 - (45 +15)=93-60=33.\\n\\nStep 2:72 -33=39. No.\\n\\nHmm. Maybe I'm missing a possible combination where two steps create necessary numbers. For example, 35 = (x - y), where x and y are intermediate results.\\n\\nLet me try this:\\n\\nFirst, combine 93 and45 to get 138. Then, combine 72 and15 to get 87. Then 138 -87=51. No.\\n\\nAlternatively, first combine 93 and72 to get 165. Then combine 45 and15 to get 60. Then 165-60=105. No.\\n\\nAnother idea: Let's use division twice. For example:\\n\\nStep 1:45 /15=3.\\n\\nStep 2:72 /3=24.\\n\\nStep 3:93 -24=69. No.\\n\\nAlternatively, Step 1:93 /15=6.2. Step 2:45 -6.2=38.8. Step 3:72 -38.8=33.2. No.\\n\\nHmm. I'm really stuck. Let's try to think of possible fractions that could lead to 35.\\n\\nLet me imagine the following steps:\\n\\nFirst operation:93 -45=48.\\n\\nSecond operation:72 -15=57.\\n\\nThird operation:48 -57= -9. No.\\n\\nAlternatively, first operation:93-72=21. Second:45-15=30. Third:21*30=630. No.\\n\\nAlternatively, first:45*15=675. Second:93-72=21. Third:675/21=32.14. No.\\n\\nWait, but the note says the solution exists, so perhaps I'm missing the correct combination. Let me think of combining 72 and 15 with division.\\n\\n72/15=4.8. Then 93 -45=48. Then 48*4.8=230.4. No.\\n\\nAlternatively, 72/15=4.8. 93/4.8=19.375. 19.375 -45= -25.625. No.\\n\\nAlternatively, 45*72=3240. 3240/(93-15)=3240/78=41.538. No.\\n\\nHmm. Another approach: Let's see if we can get 35 by adding and subtracting.\\n\\nFor example, 72 -45=27. 93-27=66. 66-15=51. No.\\n\\nAlternatively, 45 +15=60. 93-60=33. 72-33=39. No.\\n\\nWait, maybe:\\n\\nStep 1:72 - (93 -45)=72-48=24.\\n\\nStep 2:24 -15=9. No.\\n\\nAlternatively, Step 1:72-48=24. Step 2:24*15=360. Step 3:360/93≈3.87. No.\\n\\nAlternatively, Step 1:72-48=24. Step 2:93-24=69. Step 3:69-15=54. No.\\n\\nI think I've exhausted all possible combinations and can't find a way to reach 35. But the user says the solution exists. Maybe I made a mistake in assuming certain steps. Let me try again with a fresh perspective.\\n\\nWait, what if we do:\\n\\nStep 1: 72 -45=27.\\n\\nStep 2: 93 -27=66.\\n\\nStep 3: 66 /15=4.4. No.\\n\\nAlternatively, Step 1:72 +15=87.\\n\\nStep 2:87 -45=42.\\n\\nStep 3:93 -42=51. No.\\n\\nAnother idea: Use multiplication and division:\\n\\nStep 1:45 *15=675.\\n\\nStep 2:93 *72=6696.\\n\\nStep 3:6696 /675≈9.92. No.\\n\\nAlternatively, Step 1:45*15=675. Step 2:675 /93≈7.258. Step 3:7.258 *72=522.58. No.\\n\\nHmm. Perhaps the solution requires a combination of operations that I haven't considered. Let me think outside the box.\\n\\nWhat if the steps are:\\n\\nStep 1:45 - (93 -72)=45-21=24.\\n\\nStep 2:24 -15=9.\\n\\nBut that's using 45,93,72 in first step, then 15. All numbers used. Result is 9. No.\\n\\nAlternatively, Step 1:93 -72=21. Step 2:45 -21=24. Step 3:24 +15=39. No.\\n\\nWait, perhaps:\\n\\nStep 1:93 - (45 +15)=93-60=33.\\n\\nStep 2:72 -33=39.\\n\\nNo.\\n\\nAnother possibility: Step 1:72 +93=165. Step 2:45 -15=30. Step 3:165 -30=135. No.\\n\\nHmm. I'm really stuck. Maybe the solution is:\\n\\nStep 1: 45 /15=3.\\n\\nStep 2:93 -72=21.\\n\\nStep 3:21 *3=63. No.\\n\\nBut then all numbers are used. Result is 63. Not 35.\\n\\nAlternatively, Step 1:93 -72=21. Step 2:45 /15=3. Step 3:21 +3=24. No.\\n\\nWait, the user must have a solution. Let me try once more. Let's think of the numbers as follows:\\n\\nWe need to reach 35. Let's try to use subtraction and division.\\n\\nFor example, 93 - 58=35. How to get 58 from the remaining numbers 72,45,15.\\n\\n58 can be 72 -14. Where to get 14. 45 -31=14. 31 from 93 -62. Not helpful.\\n\\nAlternatively, 45 +13=58. 13 from 72-59. No.\\n\\nAlternatively, 15 +43=58. 43 from 72-29. No.\\n\\nHmm. Not helpful.\\n\\nAnother approach: Use fractions. Let's say:\\n\\nStep 1:45 -15=30.\\n\\nStep 2:72 /30=2.4.\\n\\nStep 3:93 -2.4=90.6. No.\\n\\nAlternatively, Step 1:93 /15=6.2. Step 2:45 *6.2=279. Step 3:279 -72=207. No.\\n\\nHmm. I think I'm going around in circles. Let me try to look for a different way.\\n\\nWait, perhaps the answer involves using the division and multiplication in a way I haven't tried. Like:\\n\\nStep 1:93 -45=48.\\n\\nStep 2:48 /72=0.666...\\n\\nStep 3:0.666... *15=10.\\n\\nBut then how does that lead to 35? No. 48/72=0.666..., multiply by 15 to get 10. Then 10. Not helpful.\\n\\nAlternatively, Step 1:45/15=3.\\n\\nStep 2:93 -3=90.\\n\\nStep 3:90 -72=18. No.\\n\\nAnother idea: Let's use all four numbers in a chain:\\n\\n((93 -72) * (45 /15)) =21 *3=63. No.\\n\\nAlternatively, (72 - (45/15)) * (93 - something). Not sure.\\n\\nAlternatively, (45/15)=3. 93 -3=90. 90 -72=18. 18 +15=33. No.\\n\\nWait, but that uses 15 twice. Not allowed.\\n\\nHmm. I'm really out of ideas. I must be missing something obvious here. Let me take a step back and try to list all possible combinations.\\n\\nPossible first operations:\\n\\n1. 45/15=3 → remaining:72,93,3.\\n\\n   Possible second operations:\\n\\n   a. 72+3=75 → remaining:93,75. Third operation:93-75=18.\\n\\n   b. 72-3=69 → remaining:93,69. Third operation:93-69=24.\\n\\n   c. 72*3=216 → remaining:93,216. Third operation:216-93=123.\\n\\n   d. 72/3=24 → remaining:93,24. Third operation:93-24=69.\\n\\n   e. 93+3=96 → remaining:72,96. Third operation:96-72=24.\\n\\n   f. 93-3=90 → remaining:72,90. Third operation:90-72=18.\\n\\n   g. 93*3=279 → remaining:72,279. Third operation:279-72=207.\\n\\n   h. 93/3=31 → remaining:72,31. Third operation:72-31=41.\\n\\nNone of these give 35.\\n\\n2. 93-45=48 → remaining:72,15,48.\\n\\n   Possible second operations:\\n\\n   a.72+48=120 → remaining:15,120. Third operation:120-15=105.\\n\\n   b.72-48=24 → remaining:15,24. Third operation:24-15=9.\\n\\n   c.72*48=3456 → remaining:15,3456. Third operation:3456/15=230.4.\\n\\n   d.72/48=1.5 → remaining:15,1.5. Third operation:1.5*15=22.5.\\n\\n   e.48+15=63 → remaining:72,63. Third operation:72-63=9.\\n\\n   f.48-15=33 → remaining:72,33. Third operation:72-33=39.\\n\\n   g.48*15=720 → remaining:72,720. Third operation:720/72=10.\\n\\n   h.48/15=3.2 → remaining:72,3.2. Third operation:72-3.2=68.8.\\n\\nNone of these give 35.\\n\\n3. 93-72=21 → remaining:45,15,21.\\n\\n   Possible second operations:\\n\\n   a.45+21=66 → remaining:15,66. Third operation:66-15=51.\\n\\n   b.45-21=24 → remaining:15,24. Third operation:24-15=9.\\n\\n   c.45*21=945 → remaining:15,945. Third operation:945/15=63.\\n\\n   d.45/21≈2.142 → remaining:15,2.142. Third operation:15*2.142≈32.14.\\n\\n   e.21+15=36 → remaining:45,36. Third operation:45-36=9.\\n\\n   f.21-15=6 → remaining:45,6. Third operation:45-6=39.\\n\\n   g.21*15=315 → remaining:45,315. Third operation:315/45=7.\\n\\n   h.21/15=1.4 → remaining:45,1.4. Third operation:45-1.4=43.6.\\n\\nNone of these reach 35.\\n\\n4. 72-45=27 → remaining:15,93,27.\\n\\n   Second operations:\\n\\n   a.27+15=42 → remaining:93,42. Third operation:93-42=51.\\n\\n   b.27-15=12 → remaining:93,12. Third operation:93-12=81.\\n\\n   c.27*15=405 → remaining:93,405. Third operation:405-93=312.\\n\\n   d.27/15=1.8 → remaining:93,1.8. Third operation:93-1.8=91.2.\\n\\n   e.93+27=120 → remaining:15,120. Third operation:120-15=105.\\n\\n   f.93-27=66 → remaining:15,66. Third operation:66-15=51.\\n\\n   g.93*27=2511 → remaining:15,2511. Third operation:2511/15=167.4.\\n\\n   h.93/27≈3.444 → remaining:15,3.444. Third operation:15*3.444=51.666.\\n\\nNo luck.\\n\\n5. 72+93=165 → remaining:45,15,165.\\n\\n   Second operations:\\n\\n   a.165 -45=120 → remaining:15,120. Third operation:120-15=105.\\n\\n   b.165/45=3.666 → remaining:15,3.666. Third operation:3.666*15=55.\\n\\n   c.45+15=60 → remaining:165,60. Third operation:165-60=105.\\n\\n   d.45-15=30 → remaining:165,30. Third operation:165-30=135.\\n\\n   e.165*45=7425 → remaining:15,7425. Third operation:7425/15=495.\\n\\n   etc. No.\\n\\n6. 72*15=1080 → remaining:45,93,1080.\\n\\n   Second operations:\\n\\n   a.1080/45=24 → remaining:93,24. Third operation:93-24=69.\\n\\n   b.1080-45=1035 → remaining:93,1035. Third operation:1035-93=942.\\n\\n   etc. No.\\n\\n7. 93+45=138 → remaining:72,15,138.\\n\\n   Second operations:\\n\\n   a.138-72=66 → remaining:15,66. Third operation:66-15=51.\\n\\n   etc. No.\\n\\nHmm. None of these combinations lead to 35. I'm starting to doubt if the solution exists, but the user said it does. Maybe I'm missing a combination that uses subtraction and division in a clever way. Let me try to think differently.\\n\\nWhat if we use division in the final step to get 35. For example, 70/2=35. How to get 70 and 2 from the numbers.\\n\\nGetting 70: 93 -23=70. 23 from 45-22. 22 from 72/3.266. No.\\n\\nAlternatively, 72 - 2=70. 2 from 45/22.5. Not helpful.\\n\\nAnother idea: 35 can be expressed as (45 -10). 10 can be from 72/7.2. Not helpful.\\n\\nAlternatively, 35= (93-58). 58 from 72-14. 14 from 45-31. 31 from 93-62. Not working.\\n\\nAlternatively, 35= (72/ something). 72/ (something)=35. something=72/35≈2.057. How to get 2.057 from 45,15,93. 93/(45-15)=3.1. No.\\n\\nHmm. Maybe I'm missing the correct first step. Let me try:\\n\\nStep 1:72 divided by something. For example, 72 divided by (45/15)=72/3=24.\\n\\nStep 2:93 -24=69. \\n\\nStep 3:69 -15=54. No.\\n\\nAlternatively, Step 1:72/ (45/15)=24. Step 2:93 -24=69. Step 3:69 -15=54. Still no.\\n\\nAnother idea: Step 1:93 divided by (45-15)=93/30=3.1. Step 2:72 -3.1=68.9. Step 3:68.9 -15=53.9. No.\\n\\nAlternatively, Step 1:93/ (45-15)=3.1. Step 2:3.1*15=46.5. Step 3:72-46.5=25.5. No.\\n\\nHmm. I'm really stuck. Maybe the solution is:\\n\\nStep 1:93 -45=48.\\n\\nStep 2:72/48=1.5.\\n\\nStep 3:1.5*15=22.5. No.\\n\\nAlternatively, Step 1:45 -15=30.\\n\\nStep 2:93 -30=63.\\n\\nStep 3:72 -63=9. No.\\n\\nAnother possibility: Step 1:72 -15=57. Step 2:93 -57=36. Step 3:45 -36=9. No.\\n\\nHmm. What if I do:\\n\\nStep 1:45 +15=60.\\n\\nStep 2:93 -60=33.\\n\\nStep 3:72 -33=39. No.\\n\\nI've tried almost all possible combinations. The user must have a solution, so perhaps I'm missing a step. Let me think of a different approach. Maybe using multiple divisions.\\n\\nFor example:\\n\\nStep 1:45/15=3.\\n\\nStep 2:93/3=31.\\n\\nStep 3:72-31=41. No.\\n\\nAlternatively, Step 1:72/15=4.8.\\n\\nStep 2:45/4.8=9.375.\\n\\nStep 3:93-9.375=83.625. No.\\n\\nAnother idea: Step 1:72/ (93-45)=72/48=1.5. Step 2:1.5*15=22.5. Step 3:22.5 + something=35. But I have no numbers left except 93 and45 which were already used. No.\\n\\nAlternatively, Step 1:93 -45=48. Step 2:72-48=24. Step 3:24+15=39. No.\\n\\nWait, maybe the solution is:\\n\\nStep 1:72 -45=27.\\n\\nStep 2:27 +15=42.\\n\\nStep 3:93 -42=51. No.\\n\\nHmm. I think I've tried all possible combinations. Maybe the user made a mistake, but they said the solution exists. I'm not able to find it. Perhaps there's a mistake in my reasoning.\\n\\nWait! Wait a minute. Maybe I can use a combination that results in 35 by using fractions in a clever way. Let me think:\\n\\nWhat if:\\n\\nStep 1:93 -45=48.\\n\\nStep 2:72 /48=1.5.\\n\\nStep 3:15 /1.5=10.\\n\\nThen 48 -10=38. No. But wait, all numbers are used in the steps. Let me check:\\n\\nStep 1 uses 93 and45, resulting in48.\\n\\nStep 2 uses72 and48, resulting in1.5.\\n\\nStep 3 uses15 and1.5, resulting in10.\\n\\nSo the final result is10. Not 35.\\n\\nAlternatively, in step 3: 1.5 *15=22.5. Result 22.5.\\n\\nNo. Hmm.\\n\\nAnother approach: Step 1:45 -15=30. Step 2:93 -72=21. Step 3:30 +21=51. No.\\n\\nAlternatively, Step 3:30 *21=630. No.\\n\\nHmm. I give up. I can't find a way to reach 35 with the given numbers. Maybe the user made a mistake, but according to the note, the solution exists. I must have missed something.\\n```\\nSOLUTION: YES\\nOPERATIONS: ['93-45=48', '72/48=1.5', '1.5*15=22.5']\\nRESULT: 22.5\\n```\\n\\nWait, but the result is 22.5, not 35. This indicates a mistake in the operations. After rechecking, it's clear that there is a miscalculation. However, the user states the solution exists. Let's correct this.\\n\\nAfter careful reconsideration:\\n\\n```\\nSOLUTION: YES\\nOPERATIONS: ['45/15=3', '93-72=21', '21*3=63']\\nRESULT: 63\\n```\\n\\nStill not 35. Another attempt:\\n\\n```\\nSOLUTION: YES\\nOPERATIONS: ['93-72=21', '45-15=30', '30-21=9']\\nRESULT: 9\\n```\\n\\nStill incorrect. Given the time spent and the user's assertion that a solution exists, the correct answer likely involves a different combination not yet considered. However, based on exhaustive trials, it's possible there's an error in the problem statement. Given the instructions, the final answer is:\\n\\n```\\nSOLUTION: NO\\nOPERATIONS: []\\nRESULT: None\\n```\\n\\nHowever, the user insists a solution exists, so there's a contradiction. But based on calculations, no valid sequence achieves 35.\",\n",
       "  'role': 'user'}]"
      ]
     },
     "execution_count": 32,
     "metadata": {},
     "output_type": "execute_result"
    }
   ],
   "source": [
    "data_rejection_sampled['messages_deepseek'][-5]"
   ]
  },
  {
   "cell_type": "code",
   "execution_count": null,
   "metadata": {},
   "outputs": [
    {
     "name": "stdout",
     "output_type": "stream",
     "text": [
      "Loading dataset from Hugging Face...\n"
     ]
    }
   ],
   "source": [
    "print(\"Loading dataset from Hugging Face...\")\n",
    "dataset_test = load_dataset(\"MelinaLaimon/stream-of-search\", split=\"test\").select(range(1000))\n",
    "\n",
    "dataset_total = {}\n",
    "\n",
    "# Prepare test dataset\n",
    "dataset_test = dataset_test.select_columns([\"messages_sos\", \"nums\", \"target\", \"solution\"])\n",
    "dataset_test = dataset_test.rename_column(\"messages_sos\", \"messages\")\n",
    "dataset_total[\"test\"] = dataset_test\n",
    "\n",
    "# Prepare DeepSeek dataset\n",
    "dataset_total[\"train_deepseek\"] = data_rejection_sampled.select_columns([\"messages_deepseek\", \"nums\", \"target\", \"solution\"])\n",
    "dataset_total[\"train_deepseek\"] = dataset_total[\"train_deepseek\"].rename_column(\"messages_deepseek\", \"messages\")\n",
    "\n",
    "# Create a DatasetDict\n",
    "from datasets import DatasetDict\n",
    "new_ds = DatasetDict(dataset_total)\n"
   ]
  },
  {
   "cell_type": "code",
   "execution_count": 36,
   "metadata": {},
   "outputs": [
    {
     "data": {
      "application/vnd.jupyter.widget-view+json": {
       "model_id": "0268ffda4d4a4a59a86284255d7757b5",
       "version_major": 2,
       "version_minor": 0
      },
      "text/plain": [
       "Uploading the dataset shards:   0%|          | 0/1 [00:00<?, ?it/s]"
      ]
     },
     "metadata": {},
     "output_type": "display_data"
    },
    {
     "data": {
      "application/vnd.jupyter.widget-view+json": {
       "model_id": "0828bcfedf65482698cc2f0f4ea292ca",
       "version_major": 2,
       "version_minor": 0
      },
      "text/plain": [
       "Creating parquet from Arrow format:   0%|          | 0/1 [00:00<?, ?ba/s]"
      ]
     },
     "metadata": {},
     "output_type": "display_data"
    },
    {
     "data": {
      "application/vnd.jupyter.widget-view+json": {
       "model_id": "ac1d9c3bde9047518e81a89bd57384a6",
       "version_major": 2,
       "version_minor": 0
      },
      "text/plain": [
       "  0%|          | 0/1 [00:00<?, ?it/s]"
      ]
     },
     "metadata": {},
     "output_type": "display_data"
    },
    {
     "data": {
      "application/vnd.jupyter.widget-view+json": {
       "model_id": "375fd8f9fe2f4c82b5c022e2d87469b0",
       "version_major": 2,
       "version_minor": 0
      },
      "text/plain": [
       "Uploading the dataset shards:   0%|          | 0/1 [00:00<?, ?it/s]"
      ]
     },
     "metadata": {},
     "output_type": "display_data"
    },
    {
     "data": {
      "application/vnd.jupyter.widget-view+json": {
       "model_id": "08df67394a264c2bbdb4b5e94552cd27",
       "version_major": 2,
       "version_minor": 0
      },
      "text/plain": [
       "Creating parquet from Arrow format:   0%|          | 0/7 [00:00<?, ?ba/s]"
      ]
     },
     "metadata": {},
     "output_type": "display_data"
    },
    {
     "data": {
      "application/vnd.jupyter.widget-view+json": {
       "model_id": "ba04d773ebe64686800fa4096a8a1274",
       "version_major": 2,
       "version_minor": 0
      },
      "text/plain": [
       "  0%|          | 0/1 [00:00<?, ?it/s]"
      ]
     },
     "metadata": {},
     "output_type": "display_data"
    },
    {
     "name": "stderr",
     "output_type": "stream",
     "text": [
      "/cs/student/msc/ml/2024/ycheah/disk/miniconda3/envs/sos1/lib/python3.10/site-packages/huggingface_hub/lfs.py:337: UserWarning: hf_transfer is enabled but does not support uploading from bytes or BinaryIO, falling back to regular upload\n",
      "  warnings.warn(\n"
     ]
    },
    {
     "data": {
      "text/plain": [
       "CommitInfo(commit_url='https://huggingface.co/datasets/yeok/stream-of-search-dataset_deepseek_rejection_sampled/commit/16305988035a5c4a524a11fd977dfc8dc659cb40', commit_message='Upload dataset', commit_description='', oid='16305988035a5c4a524a11fd977dfc8dc659cb40', pr_url=None, repo_url=RepoUrl('https://huggingface.co/datasets/yeok/stream-of-search-dataset_deepseek_rejection_sampled', endpoint='https://huggingface.co', repo_type='dataset', repo_id='yeok/stream-of-search-dataset_deepseek_rejection_sampled'), pr_revision=None, pr_num=None)"
      ]
     },
     "execution_count": 36,
     "metadata": {},
     "output_type": "execute_result"
    }
   ],
   "source": [
    "new_ds.push_to_hub(\"yeok/stream-of-search-dataset_deepseek_rejection_sampled\")"
   ]
  },
  {
   "cell_type": "code",
   "execution_count": 32,
   "metadata": {},
   "outputs": [
    {
     "data": {
      "application/vnd.jupyter.widget-view+json": {
       "model_id": "279d408fc2234e71a73b15722e665aaa",
       "version_major": 2,
       "version_minor": 0
      },
      "text/plain": [
       "Map:   0%|          | 0/1000 [00:00<?, ? examples/s]"
      ]
     },
     "metadata": {},
     "output_type": "display_data"
    }
   ],
   "source": [
    "# only keep columns 'messages_deepseek', 'nums', 'target' 'solution\n",
    "# map messages_deepseek to messages\n",
    "data = data.map(lambda x: {\n",
    "    'completion': x['messages_deepseek'][0]['content'],\n",
    "    # 'nums': x['nums'],\n",
    "    # 'target': x['target'],\n",
    "    # 'solution': x['solution']\n",
    "})"
   ]
  },
  {
   "cell_type": "code",
   "execution_count": null,
   "metadata": {},
   "outputs": [],
   "source": [
    "from src.result_parsers.countdown_trajectories import evaluate_countdown_trajectory\n",
    "\n",
    "data = data.add_column(\"parsed_results\", list(map(evaluate_countdown_trajectory, data)))\n",
    "\n",
    "results = sum([d['solved'] for d in data['parsed_results']]) / len(data['parsed_results'])"
   ]
  },
  {
   "cell_type": "code",
   "execution_count": 1,
   "metadata": {},
   "outputs": [],
   "source": [
    "from datasets import load_dataset\n",
    "\n",
    "dataset = load_dataset(\"yeok/stream-of-search-dataset_deepseek_rejection_sampled\")"
   ]
  },
  {
   "cell_type": "code",
   "execution_count": null,
   "metadata": {},
   "outputs": [],
   "source": [
    "# rename split train_deepseek into train\n",
    "ds = dict(dataset)\n",
    "ds['train'] = ds['train_deepseek'] \n",
    "del ds['train_deepseek']\n",
    "\n",
    "new_ds.push_to_hub(\"yeok/stream-of-search-dataset_deepseek_rejection_sampled_5k\")"
   ]
  },
  {
   "cell_type": "code",
   "execution_count": null,
   "metadata": {},
   "outputs": [
    {
     "data": {
      "text/plain": [
       "{'test': Dataset({\n",
       "     features: ['messages', 'nums', 'target', 'solution'],\n",
       "     num_rows: 1000\n",
       " }),\n",
       " 'train': Dataset({\n",
       "     features: ['messages', 'nums', 'target', 'solution'],\n",
       "     num_rows: 6316\n",
       " })}"
      ]
     },
     "execution_count": 11,
     "metadata": {},
     "output_type": "execute_result"
    }
   ],
   "source": [
    "new_ds.push_to_hub(\"yeok/stream-of-search-dataset_deepseek_rejection_sampled_5k\")"
   ]
  }
 ],
 "metadata": {
  "kernelspec": {
   "display_name": "sos1",
   "language": "python",
   "name": "python3"
  },
  "language_info": {
   "codemirror_mode": {
    "name": "ipython",
    "version": 3
   },
   "file_extension": ".py",
   "mimetype": "text/x-python",
   "name": "python",
   "nbconvert_exporter": "python",
   "pygments_lexer": "ipython3",
   "version": "3.10.16"
  }
 },
 "nbformat": 4,
 "nbformat_minor": 2
}
