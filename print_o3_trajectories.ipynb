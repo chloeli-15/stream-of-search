{
 "cells": [
  {
   "cell_type": "code",
   "execution_count": 1,
   "metadata": {},
   "outputs": [],
   "source": [
    "from scripts import constants \n",
    "import json\n"
   ]
  },
  {
   "cell_type": "code",
   "execution_count": 4,
   "metadata": {},
   "outputs": [],
   "source": [
    "o3_trajectories = []\n",
    "with open(constants.o3_results_filepath) as file:\n",
    "    for line in file:\n",
    "        response = json.loads(line.rstrip())\n",
    "        o3_trajectory = response[\"response\"][\"body\"][\"output\"][-1][\"content\"][0][\"text\"]\n",
    "        o3_trajectories.append(o3_trajectory)"
   ]
  },
  {
   "cell_type": "code",
   "execution_count": 19,
   "metadata": {},
   "outputs": [
    {
     "name": "stdout",
     "output_type": "stream",
     "text": [
      "Below is one detailed reasoning trace showing a breadth‐first search with a heuristic incorporated. In our search, we use the following promising heuristic:\n",
      "\n",
      "Heuristic: For any “current” computed number (or set of numbers), estimate the “cost” as the absolute difference between one candidate number (say, one of the recently computed intermediate numbers) and the target (52). The idea is that the closer an intermediate result is to 52, the more promising the path. (We also consider the number of remaining numbers to be used.) By ordering our queue (or “frontier”) based on this evaluation we help guide the search toward promising subgoals while still performing a breadth‐first expansion.\n",
      "\n",
      "──────────────────────────────\n",
      "Step 1. Initial state\n",
      "\n",
      "Numbers Available: {28, 7, 87}\n",
      "Target: 52\n",
      "\n",
      "We must use all the numbers exactly once.\n",
      "\n",
      "──────────────────────────────\n",
      "Step 2. Generate First Level of expansions\n",
      "\n",
      "We look at any two numbers and try all four arithmetic operations (when defined). At this level we consider all pairings:\n",
      "\n",
      "A. Combine 28 and 7\n",
      "  (a) 28 + 7 = 35   Heuristic: |35−52| = 17\n",
      "  (b) 28 - 7 = 21   Heuristic: |21−52| = 31\n",
      "  (c) 7 - 28 = -21   Heuristic: |(-21)−52| = 73\n",
      "  (d) 28 * 7 = 196   Heuristic: |196−52| = 144\n",
      "  (e) 28 / 7 = 4    Heuristic: |4−52| = 48\n",
      "  (f) 7 / 28 = 0.25   Heuristic: |0.25−52| ≈ 51.75\n",
      "\n",
      "B. Combine 28 and 87\n",
      "  (a) 28 + 87 = 115  Heuristic: |115−52| = 63\n",
      "  (b) 28 - 87 = -59  Heuristic: |(-59)−52| = 111\n",
      "  (c) 87 - 28 = 59   Heuristic: |59−52| = 7  ← very promising\n",
      "  (d) 28 * 87 = 2436  Heuristic: |2436−52| = 2384\n",
      "  (e) 28 / 87 ≈ 0.3218 Heuristic: |0.3218−52| ≈ 51.6782\n",
      "  (f) 87 / 28 ≈ 3.1071 Heuristic: |3.1071−52| ≈ 48.8929\n",
      "\n",
      "C. Combine 7 and 87\n",
      "  (a) 7 + 87 = 94   Heuristic: |94−52| = 42\n",
      "  (b) 7 - 87 = -80   Heuristic: |(-80)−52| = 132\n",
      "  (c) 87 - 7 = 80   Heuristic: |80−52| = 28\n",
      "  (d) 7 * 87 = 609   Heuristic: |609−52| = 557\n",
      "  (e) 7 / 87 ≈ 0.0805 Heuristic: |0.0805−52| ≈ 51.9195\n",
      "  (f) 87 / 7 ≈ 12.4286 Heuristic: |12.4286−52| ≈ 39.5714\n",
      "\n",
      "──────────────────────────────\n",
      "Step 3. Choose promising nodes to expand next\n",
      "\n",
      "Our heuristic values show a very promising candidate from combining 28 and 87: \n",
      "  Operation: 87 - 28 = 59  (Heuristic cost 7)\n",
      "Also, the candidate from combining 28 and 7: \n",
      "  Operation: 28 + 7 = 35  (Heuristic cost 17)\n",
      "\n",
      "Let’s explore the candidate with the best heuristic value first (87 - 28 = 59).\n",
      "\n",
      "──────────────────────────────\n",
      "Exploration Branch 1: 87 - 28 = 59\n",
      "\n",
      "After applying 87 - 28 = 59, the remaining numbers become:\n",
      " Numbers Available: {59, 7}\n",
      "\n",
      "Now expand using the remaining numbers:\n",
      "Possible operations with 59 and 7:\n",
      " (a) 59 + 7 = 66   Heuristic: |66−52| = 14\n",
      " (b) 59 - 7 = 52   Heuristic: |52−52| = 0  ← PERFECT!\n",
      " (c) 7 - 59 = -52   Heuristic: |(-52)−52| = 104\n",
      " (d) 59 * 7 = 413   Heuristic: |413−52| = 361\n",
      " (e) 59 / 7 ≈ 8.4286 Heuristic: |8.4286−52| ≈ 43.5714\n",
      " (f) 7 / 59 ≈ 0.1186 Heuristic: |0.1186−52| ≈ 51.8814\n",
      "\n",
      "The operation 59 - 7 gives exactly 52. This is our target!\n",
      "\n",
      "──────────────────────────────\n",
      "Checking for validity\n",
      "\n",
      "We reached 52 using:\n",
      " Operation 1: 87 - 28 = 59\n",
      " Operation 2: 59 - 7 = 52\n",
      "\n",
      "Double–check:\n",
      "1. Do we use all initial numbers exactly once? Yes. \n",
      " First operation used 87 and 28; second operation used the computed 59 and the remaining 7.\n",
      "2. Have we introduced any numbers that are not from the list? No.\n",
      "3. Is the arithmetic correct? \n",
      " 87 - 28 = 59, and 59 - 7 = 52. Yes.\n",
      "\n",
      "──────────────────────────────\n",
      "Step 4. Brief note on Suboptimal Trajectories and Backtracking\n",
      "\n",
      "For completeness we explain that if the BFS had first expanded, say, 28 + 7 = 35 with a heuristic of 17, we then would have had remaining numbers {35, 87}:\n",
      " - Combining them: one possibility would be 87 - 35 = 52 which also yields the target.\n",
      "This indicates that there are multiple solution paths. In our search we detected the best heuristic candidate (from branch “87 - 28”) immediately, but if that had not produced the target we would then backtrack to explore the candidate with 28 + 7 = 35 and then combine with 87, reaching the solution via 87 - 35 = 52. In our BFS the node expansion order is typically by heuristic cost and then by breadth. Since we found a solution in Branch 1, no further exploration was needed. However, the systematic exploration would log candidate expansions and backtrack from dead ends if needed.\n",
      "\n",
      "──────────────────────────────\n",
      "Final solution\n",
      "\n",
      "Thus, one valid sequence is:\n",
      " Operation 1: \"87-28=59\"\n",
      " Operation 2: \"59-7=52\"\n",
      "\n",
      "──────────────────────────────\n",
      "Final answer in EXACT required format:\n",
      "\n",
      "SOLUTION: YES\n",
      "OPERATIONS: ['87-28=59', '59-7=52']\n",
      "RESULT: 52\n"
     ]
    }
   ],
   "source": [
    "print(o3_trajectories[999])"
   ]
  },
  {
   "cell_type": "code",
   "execution_count": 12,
   "metadata": {},
   "outputs": [],
   "source": [
    "with open(constants.merged_sos_database_filename) as f:\n",
    "    sos = json.load(f)"
   ]
  },
  {
   "cell_type": "code",
   "execution_count": 13,
   "metadata": {},
   "outputs": [
    {
     "name": "stdout",
     "output_type": "stream",
     "text": [
      "Combine these initial numbers [86, 8, 22, 89] using only arithmetic operations (+, -, *, /) to reach the target value 58. All initial numbers must be used exactly once.\n",
      "Conclude with the final result in EXACTLY this format:\n",
      "```\n",
      "SOLUTION: YES/NO\n",
      "OPERATIONS: list of string of operations performed, each string involving only 1 operation. For example, ['A+B=C','C+D=E'] is allowed, ['A+B+D=E'] is not allowed\n",
      "RESULT: final_value\n",
      "```\n",
      "\n"
     ]
    }
   ],
   "source": [
    "print(sos[5][\"messages_sos_react\"][0][\"content\"])"
   ]
  },
  {
   "cell_type": "code",
   "execution_count": 14,
   "metadata": {},
   "outputs": [
    {
     "name": "stdout",
     "output_type": "stream",
     "text": [
      "Combine these initial numbers [86, 8, 22, 89] using only arithmetic operations (+, -, *, /) to reach the target value 58. All initial numbers must be used exactly once.\n",
      "Conclude with the final result in EXACTLY this format:\n",
      "```\n",
      "SOLUTION: YES/NO\n",
      "OPERATIONS: list of string of operations performed, each string involving only 1 operation. For example, ['A+B=C','C+D=E'] is allowed, ['A+B+D=E'] is not allowed\n",
      "RESULT: final_value\n",
      "\n"
     ]
    }
   ],
   "source": [
    "print(sos[5][\"messages_sos\"][0][\"content\"])"
   ]
  },
  {
   "cell_type": "code",
   "execution_count": 16,
   "metadata": {},
   "outputs": [
    {
     "name": "stdout",
     "output_type": "stream",
     "text": [
      "\n",
      "## Countdown Game Explanation\n",
      "In the Countdown game, we start with a set of four initial numbers (e.g., [4,2,1,1]) and a target value (e.g., 10). Our goal is to use arithmetic operations (+,–,*,/) to produce the target. Each time we apply an operation to two numbers, we remove those two numbers from the set and replace them with the operation’s result. We continue until we:\n",
      "1. Obtain the target (success) and can provide a valid formula (e.g., 4*2+1+1=10), or\n",
      "2. Exhaust all possibilities without finding the target (failure).\n",
      "\n",
      "## Breadth-First Search (BFS) with Beam Size {beam_size}\n",
      "You will be using a Breadth-First Search (BFS) with Beam Size {beam_size} guided by a **product-based** heuristic, which computes the minimum of all absolute differences between each number and each factor of the target number. \n",
      "For example, for nums=[4,2,1,1] and target=10, the heuristic score is:\n",
      "min(|4-2|, |4-5|, |4-10|) + min(|2-2|, |2-5|, |2-10|) + min(|1-2|, |1-5|, |1-10|) + min(|1-2|, |1-5|, |1-10|) = 1 + 0 + 1 + 1 = 3\n",
      "Lower scores indicate that the numbers are closer to the target's factors, making them more promising for reaching the target via multiplication.\n",
      "\n",
      "The search process:\n",
      "- **Initialization**: We create a single root node containing the initial set of numbers. We compute its heuristic score and place this node in our 'frontier' or 'open set' of nodes to explore.\n",
      "- **Nodes**: Each node in our search graph represents a set of n numbers (and the operations used to reach them).\n",
      "- **Node Selection for Expansion**: At each level, we use the same heuristic to rank the nodes in our frontier. We keep only a fixed number of top-scoring nodes (the “beam width”) and discard the rest.\n",
      "- **Expansion**: For each selected node, we generate child nodes by selecting two numbers and applying an arithmetic operation, resulting in a new set of n−1 numbers. Each child node’s heuristic is then computed, and we keep the top {beam_size} children\n",
      "- **Goal Check**: If any node’s set contains exactly one number that equals the target, we have found a solution. Otherwise we backtrack and re-select a node for expansion.\n",
      "- **Termination**: If we run out of nodes to explore without finding the target, no solution exists.\n",
      "\n",
      "\n",
      "Make 26 with the numbers [77, 13, 90] using standard arithmetic operations, and show your search step by step\n",
      "===We are given initial numbers [77, 13, 90] and target value 26. Let's show the search process step by step:\n",
      "\n",
      "Current State #0: 26:[77, 13, 90]. Operations so far : [].\n",
      "Generating Node #0,0. Operation: 90-77=13. Resulting numbers: [13, 13].\n",
      "Backtracking to Node #0,0\n",
      "Current State: 26:[13, 13], Operations: ['90-77=13']\n",
      "Exploring Operation: 13+13=26, Resulting Numbers: [26]\n",
      "26,26 equal: Goal Reached\n",
      "\n",
      "\n"
     ]
    }
   ],
   "source": [
    "\n",
    "print( \n",
    "\"\"\"\n",
    "## Countdown Game Explanation\\nIn the Countdown game, we start with a set of four initial numbers (e.g., [4,2,1,1]) and a target value (e.g., 10). Our goal is to use arithmetic operations (+,\\u2013,*,/) to produce the target. Each time we apply an operation to two numbers, we remove those two numbers from the set and replace them with the operation\\u2019s result. We continue until we:\\n1. Obtain the target (success) and can provide a valid formula (e.g., 4*2+1+1=10), or\\n2. Exhaust all possibilities without finding the target (failure).\\n\\n## Breadth-First Search (BFS) with Beam Size {beam_size}\\nYou will be using a Breadth-First Search (BFS) with Beam Size {beam_size} guided by a **product-based** heuristic, which computes the minimum of all absolute differences between each number and each factor of the target number. \\nFor example, for nums=[4,2,1,1] and target=10, the heuristic score is:\\nmin(|4-2|, |4-5|, |4-10|) + min(|2-2|, |2-5|, |2-10|) + min(|1-2|, |1-5|, |1-10|) + min(|1-2|, |1-5|, |1-10|) = 1 + 0 + 1 + 1 = 3\\nLower scores indicate that the numbers are closer to the target's factors, making them more promising for reaching the target via multiplication.\\n\\nThe search process:\\n- **Initialization**: We create a single root node containing the initial set of numbers. We compute its heuristic score and place this node in our 'frontier' or 'open set' of nodes to explore.\\n- **Nodes**: Each node in our search graph represents a set of n numbers (and the operations used to reach them).\\n- **Node Selection for Expansion**: At each level, we use the same heuristic to rank the nodes in our frontier. We keep only a fixed number of top-scoring nodes (the \\u201cbeam width\\u201d) and discard the rest.\\n- **Expansion**: For each selected node, we generate child nodes by selecting two numbers and applying an arithmetic operation, resulting in a new set of n\\u22121 numbers. Each child node\\u2019s heuristic is then computed, and we keep the top {beam_size} children\\n- **Goal Check**: If any node\\u2019s set contains exactly one number that equals the target, we have found a solution. Otherwise we backtrack and re-select a node for expansion.\\n- **Termination**: If we run out of nodes to explore without finding the target, no solution exists.\\n\\n\\nMake 26 with the numbers [77, 13, 90] using standard arithmetic operations, and show your search step by step\\n===We are given initial numbers [77, 13, 90] and target value 26. Let's show the search process step by step:\\n\\nCurrent State #0: 26:[77, 13, 90]. Operations so far : [].\\nGenerating Node #0,0. Operation: 90-77=13. Resulting numbers: [13, 13].\\nBacktracking to Node #0,0\\nCurrent State: 26:[13, 13], Operations: ['90-77=13']\\nExploring Operation: 13+13=26, Resulting Numbers: [26]\\n26,26 equal: Goal Reached\\n\n",
    "\"\"\"\n",
    "      )"
   ]
  },
  {
   "cell_type": "code",
   "execution_count": null,
   "metadata": {},
   "outputs": [],
   "source": []
  }
 ],
 "metadata": {
  "kernelspec": {
   "display_name": ".venv",
   "language": "python",
   "name": "python3"
  },
  "language_info": {
   "codemirror_mode": {
    "name": "ipython",
    "version": 3
   },
   "file_extension": ".py",
   "mimetype": "text/x-python",
   "name": "python",
   "nbconvert_exporter": "python",
   "pygments_lexer": "ipython3",
   "version": "3.12.9"
  }
 },
 "nbformat": 4,
 "nbformat_minor": 2
}
